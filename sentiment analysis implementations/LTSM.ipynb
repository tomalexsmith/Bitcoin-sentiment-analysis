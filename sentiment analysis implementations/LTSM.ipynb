{
  "nbformat": 4,
  "nbformat_minor": 0,
  "metadata": {
    "colab": {
      "provenance": [],
      "authorship_tag": "ABX9TyO9y+wKeVE6Fk2XREz+uR6g",
      "include_colab_link": true
    },
    "kernelspec": {
      "name": "python3",
      "display_name": "Python 3"
    },
    "language_info": {
      "name": "python"
    },
    "accelerator": "GPU",
    "gpuClass": "standard"
  },
  "cells": [
    {
      "cell_type": "markdown",
      "metadata": {
        "id": "view-in-github",
        "colab_type": "text"
      },
      "source": [
        "<a href=\"https://colab.research.google.com/github/tomalexsmith/Bitcoin-sentiment-analysis/blob/main/LTSM.ipynb\" target=\"_parent\"><img src=\"https://colab.research.google.com/assets/colab-badge.svg\" alt=\"Open In Colab\"/></a>"
      ]
    },
    {
      "cell_type": "code",
      "execution_count": null,
      "metadata": {
        "id": "ZWR6FfpytrpF"
      },
      "outputs": [],
      "source": [
        "import pandas as pd\n",
        "from keras.preprocessing.text import Tokenizer\n",
        "from keras.utils import pad_sequences\n",
        "from keras.utils import to_categorical\n",
        "from sklearn.pipeline import Pipeline\n",
        "from sklearn.model_selection import train_test_split\n",
        "from keras.models import Sequential\n",
        "from keras import layers"
      ]
    },
    {
      "cell_type": "code",
      "source": [
        "from google.colab import drive\n",
        "\n",
        "drive.mount('/content/drive')"
      ],
      "metadata": {
        "colab": {
          "base_uri": "https://localhost:8080/"
        },
        "id": "C5RcK8n6uCqn",
        "outputId": "3f1eda91-e8da-4e01-a5ef-1cacfc57038b"
      },
      "execution_count": null,
      "outputs": [
        {
          "output_type": "stream",
          "name": "stdout",
          "text": [
            "Drive already mounted at /content/drive; to attempt to forcibly remount, call drive.mount(\"/content/drive\", force_remount=True).\n"
          ]
        }
      ]
    },
    {
      "cell_type": "code",
      "source": [
        "corpus = '/content/drive/My Drive/preprocessedCorpus.csv'\n",
        "scraped = '/content/drive/My Drive/preprocessedScraped.csv'\n",
        "\n",
        "# with open(scraped, 'r', encoding = 'utf-8') as f:\n",
        "#   tweets_df = pd.read_csv(f, index_col=0)\n",
        "\n",
        "with open(corpus, 'r', encoding = 'latin-1') as f:\n",
        "  tweets_df = pd.read_csv(f, index_col=0)\n",
        "\n",
        "tweets_df.head(len(tweets_df))"
      ],
      "metadata": {
        "colab": {
          "base_uri": "https://localhost:8080/",
          "height": 423
        },
        "id": "nAc5DkqJuIGw",
        "outputId": "568d1cc8-4bef-4d54-d2a9-e5fbabdbb232"
      },
      "execution_count": null,
      "outputs": [
        {
          "output_type": "execute_result",
          "data": {
            "text/plain": [
              "       polarity_label                                            content\n",
              "0            Positive                  devilsnight hey bug martini glass\n",
              "1            Positive                                 lumifish prejudice\n",
              "2            Negative                      bed get drive dallas tomorrow\n",
              "3            Negative              get feeling job hunt never come close\n",
              "4            Negative                man damn weather suppose oahu right\n",
              "...               ...                                                ...\n",
              "499995       Positive  mikerelm show granada last night sick del hard...\n",
              "499996       Negative                              cannot find telephone\n",
              "499997       Positive              littledotty enjoy cuppa go put kettle\n",
              "499998       Negative  finally sidekick stuff yay go sf pride weekend...\n",
              "499999       Negative     fileplanet yay get citiesxl beta key beta site\n",
              "\n",
              "[500000 rows x 2 columns]"
            ],
            "text/html": [
              "\n",
              "  <div id=\"df-471d486e-1805-4860-92ee-54e0443f4184\">\n",
              "    <div class=\"colab-df-container\">\n",
              "      <div>\n",
              "<style scoped>\n",
              "    .dataframe tbody tr th:only-of-type {\n",
              "        vertical-align: middle;\n",
              "    }\n",
              "\n",
              "    .dataframe tbody tr th {\n",
              "        vertical-align: top;\n",
              "    }\n",
              "\n",
              "    .dataframe thead th {\n",
              "        text-align: right;\n",
              "    }\n",
              "</style>\n",
              "<table border=\"1\" class=\"dataframe\">\n",
              "  <thead>\n",
              "    <tr style=\"text-align: right;\">\n",
              "      <th></th>\n",
              "      <th>polarity_label</th>\n",
              "      <th>content</th>\n",
              "    </tr>\n",
              "  </thead>\n",
              "  <tbody>\n",
              "    <tr>\n",
              "      <th>0</th>\n",
              "      <td>Positive</td>\n",
              "      <td>devilsnight hey bug martini glass</td>\n",
              "    </tr>\n",
              "    <tr>\n",
              "      <th>1</th>\n",
              "      <td>Positive</td>\n",
              "      <td>lumifish prejudice</td>\n",
              "    </tr>\n",
              "    <tr>\n",
              "      <th>2</th>\n",
              "      <td>Negative</td>\n",
              "      <td>bed get drive dallas tomorrow</td>\n",
              "    </tr>\n",
              "    <tr>\n",
              "      <th>3</th>\n",
              "      <td>Negative</td>\n",
              "      <td>get feeling job hunt never come close</td>\n",
              "    </tr>\n",
              "    <tr>\n",
              "      <th>4</th>\n",
              "      <td>Negative</td>\n",
              "      <td>man damn weather suppose oahu right</td>\n",
              "    </tr>\n",
              "    <tr>\n",
              "      <th>...</th>\n",
              "      <td>...</td>\n",
              "      <td>...</td>\n",
              "    </tr>\n",
              "    <tr>\n",
              "      <th>499995</th>\n",
              "      <td>Positive</td>\n",
              "      <td>mikerelm show granada last night sick del hard...</td>\n",
              "    </tr>\n",
              "    <tr>\n",
              "      <th>499996</th>\n",
              "      <td>Negative</td>\n",
              "      <td>cannot find telephone</td>\n",
              "    </tr>\n",
              "    <tr>\n",
              "      <th>499997</th>\n",
              "      <td>Positive</td>\n",
              "      <td>littledotty enjoy cuppa go put kettle</td>\n",
              "    </tr>\n",
              "    <tr>\n",
              "      <th>499998</th>\n",
              "      <td>Negative</td>\n",
              "      <td>finally sidekick stuff yay go sf pride weekend...</td>\n",
              "    </tr>\n",
              "    <tr>\n",
              "      <th>499999</th>\n",
              "      <td>Negative</td>\n",
              "      <td>fileplanet yay get citiesxl beta key beta site</td>\n",
              "    </tr>\n",
              "  </tbody>\n",
              "</table>\n",
              "<p>500000 rows × 2 columns</p>\n",
              "</div>\n",
              "      <button class=\"colab-df-convert\" onclick=\"convertToInteractive('df-471d486e-1805-4860-92ee-54e0443f4184')\"\n",
              "              title=\"Convert this dataframe to an interactive table.\"\n",
              "              style=\"display:none;\">\n",
              "        \n",
              "  <svg xmlns=\"http://www.w3.org/2000/svg\" height=\"24px\"viewBox=\"0 0 24 24\"\n",
              "       width=\"24px\">\n",
              "    <path d=\"M0 0h24v24H0V0z\" fill=\"none\"/>\n",
              "    <path d=\"M18.56 5.44l.94 2.06.94-2.06 2.06-.94-2.06-.94-.94-2.06-.94 2.06-2.06.94zm-11 1L8.5 8.5l.94-2.06 2.06-.94-2.06-.94L8.5 2.5l-.94 2.06-2.06.94zm10 10l.94 2.06.94-2.06 2.06-.94-2.06-.94-.94-2.06-.94 2.06-2.06.94z\"/><path d=\"M17.41 7.96l-1.37-1.37c-.4-.4-.92-.59-1.43-.59-.52 0-1.04.2-1.43.59L10.3 9.45l-7.72 7.72c-.78.78-.78 2.05 0 2.83L4 21.41c.39.39.9.59 1.41.59.51 0 1.02-.2 1.41-.59l7.78-7.78 2.81-2.81c.8-.78.8-2.07 0-2.86zM5.41 20L4 18.59l7.72-7.72 1.47 1.35L5.41 20z\"/>\n",
              "  </svg>\n",
              "      </button>\n",
              "      \n",
              "  <style>\n",
              "    .colab-df-container {\n",
              "      display:flex;\n",
              "      flex-wrap:wrap;\n",
              "      gap: 12px;\n",
              "    }\n",
              "\n",
              "    .colab-df-convert {\n",
              "      background-color: #E8F0FE;\n",
              "      border: none;\n",
              "      border-radius: 50%;\n",
              "      cursor: pointer;\n",
              "      display: none;\n",
              "      fill: #1967D2;\n",
              "      height: 32px;\n",
              "      padding: 0 0 0 0;\n",
              "      width: 32px;\n",
              "    }\n",
              "\n",
              "    .colab-df-convert:hover {\n",
              "      background-color: #E2EBFA;\n",
              "      box-shadow: 0px 1px 2px rgba(60, 64, 67, 0.3), 0px 1px 3px 1px rgba(60, 64, 67, 0.15);\n",
              "      fill: #174EA6;\n",
              "    }\n",
              "\n",
              "    [theme=dark] .colab-df-convert {\n",
              "      background-color: #3B4455;\n",
              "      fill: #D2E3FC;\n",
              "    }\n",
              "\n",
              "    [theme=dark] .colab-df-convert:hover {\n",
              "      background-color: #434B5C;\n",
              "      box-shadow: 0px 1px 3px 1px rgba(0, 0, 0, 0.15);\n",
              "      filter: drop-shadow(0px 1px 2px rgba(0, 0, 0, 0.3));\n",
              "      fill: #FFFFFF;\n",
              "    }\n",
              "  </style>\n",
              "\n",
              "      <script>\n",
              "        const buttonEl =\n",
              "          document.querySelector('#df-471d486e-1805-4860-92ee-54e0443f4184 button.colab-df-convert');\n",
              "        buttonEl.style.display =\n",
              "          google.colab.kernel.accessAllowed ? 'block' : 'none';\n",
              "\n",
              "        async function convertToInteractive(key) {\n",
              "          const element = document.querySelector('#df-471d486e-1805-4860-92ee-54e0443f4184');\n",
              "          const dataTable =\n",
              "            await google.colab.kernel.invokeFunction('convertToInteractive',\n",
              "                                                     [key], {});\n",
              "          if (!dataTable) return;\n",
              "\n",
              "          const docLinkHtml = 'Like what you see? Visit the ' +\n",
              "            '<a target=\"_blank\" href=https://colab.research.google.com/notebooks/data_table.ipynb>data table notebook</a>'\n",
              "            + ' to learn more about interactive tables.';\n",
              "          element.innerHTML = '';\n",
              "          dataTable['output_type'] = 'display_data';\n",
              "          await google.colab.output.renderOutput(dataTable, element);\n",
              "          const docLink = document.createElement('div');\n",
              "          docLink.innerHTML = docLinkHtml;\n",
              "          element.appendChild(docLink);\n",
              "        }\n",
              "      </script>\n",
              "    </div>\n",
              "  </div>\n",
              "  "
            ]
          },
          "metadata": {},
          "execution_count": 35
        }
      ]
    },
    {
      "cell_type": "code",
      "source": [
        "# Convert tweet content column datatype to string\n",
        "tweets_df['content'] = tweets_df['content'].astype(str)"
      ],
      "metadata": {
        "id": "ZiAYUzOG2gn3"
      },
      "execution_count": null,
      "outputs": []
    },
    {
      "cell_type": "code",
      "source": [
        "content=tweets_df['content']\n",
        "polarity=tweets_df['polarity_label']"
      ],
      "metadata": {
        "id": "PyT0XEpyuO9J"
      },
      "execution_count": null,
      "outputs": []
    },
    {
      "cell_type": "code",
      "source": [
        "# Split datasets into training, testing, and validation datasets\n",
        "\n",
        "X_train, X_val_test, y_train, y_val_test = train_test_split(content,\n",
        "                                                            polarity,\n",
        "                                                            random_state=42,\n",
        "                                                            train_size=.8\n",
        "                                                            )\n",
        "\n",
        "X_val, X_test, y_val, y_test = train_test_split(X_val_test,\n",
        "                                                y_val_test,\n",
        "                                                random_state=42,\n",
        "                                                train_size=.5\n",
        "                                                )"
      ],
      "metadata": {
        "id": "nES33HJVw5c-"
      },
      "execution_count": null,
      "outputs": []
    },
    {
      "cell_type": "code",
      "source": [
        "# Confirm dataset sizes\n",
        "print('Train: ', len(X_train),len(y_train))\n",
        "print('Test: ', len(X_val),len(y_val))\n",
        "print('Validation: ', len(X_test),len(y_test))"
      ],
      "metadata": {
        "id": "PEvvKbZ7xC_1"
      },
      "execution_count": null,
      "outputs": []
    },
    {
      "cell_type": "code",
      "source": [
        "# Get length of longest tweet\n",
        "max_len = max([len(tweet.split()) for tweet in tweets_df['content']])\n",
        "print(max_len)"
      ],
      "metadata": {
        "colab": {
          "base_uri": "https://localhost:8080/"
        },
        "id": "EZDJEgw0Svg1",
        "outputId": "44209c2d-23c4-4566-97d9-62e38c96166e"
      },
      "execution_count": null,
      "outputs": [
        {
          "output_type": "stream",
          "name": "stdout",
          "text": [
            "51\n"
          ]
        }
      ]
    },
    {
      "cell_type": "code",
      "source": [
        "# Train tokeniser on dataset\n",
        "tokeniser=Tokenizer()\n",
        "tokeniser.fit_on_texts(tweets_df['content'])"
      ],
      "metadata": {
        "id": "vPeRriz01sv8"
      },
      "execution_count": null,
      "outputs": []
    },
    {
      "cell_type": "code",
      "source": [
        "# Check how many unique word are in dataset\n",
        "vocab = tokeniser.word_index\n",
        "\n",
        "print(\"{} unique words in the dataset\".format(len(vocab)))"
      ],
      "metadata": {
        "colab": {
          "base_uri": "https://localhost:8080/"
        },
        "id": "geRD9DHN2o8Z",
        "outputId": "c60f1b04-b218-478f-e735-0651465faf79"
      },
      "execution_count": null,
      "outputs": [
        {
          "output_type": "stream",
          "name": "stdout",
          "text": [
            "267139 unique words in the dataset\n"
          ]
        }
      ]
    },
    {
      "cell_type": "code",
      "source": [
        "from sklearn.preprocessing import LabelEncoder\n",
        "\n",
        "# Convert sentiment polarity labels to numerical labels\n",
        "\n",
        "encoder = LabelEncoder()\n",
        "encoder.fit(tweets_df['polarity_label'].to_list())\n",
        "\n",
        "y_train = encoder.transform(y_train.to_list())\n",
        "y_val = encoder.transform(y_val.to_list())\n",
        "y_test = encoder.transform(y_test.to_list())"
      ],
      "metadata": {
        "id": "Y8dipdJ7Uqt9"
      },
      "execution_count": null,
      "outputs": []
    },
    {
      "cell_type": "code",
      "source": [
        "# reshape y_train and y_test data\n",
        "y_train = y_train.reshape(-1, 1)\n",
        "y_val = y_val.reshape(-1, 1)\n",
        "y_test = y_test.reshape(-1, 1)"
      ],
      "metadata": {
        "id": "4hnelQUHVkCs"
      },
      "execution_count": null,
      "outputs": []
    },
    {
      "cell_type": "code",
      "source": [
        "# Confirm dataset shape\n",
        "\n",
        "print(\"y_train shape:\", y_train.shape)\n",
        "print(\"y_val shape:\", y_val.shape)\n",
        "print(\"y_test shape:\", y_test.shape)"
      ],
      "metadata": {
        "colab": {
          "base_uri": "https://localhost:8080/"
        },
        "id": "ZxCgqXa3VqIF",
        "outputId": "e20837ae-fad5-4330-9d68-5216d92da643"
      },
      "execution_count": null,
      "outputs": [
        {
          "output_type": "stream",
          "name": "stdout",
          "text": [
            "y_train shape: (400000, 1)\n",
            "y_val shape: (50000, 1)\n",
            "y_test shape: (50000, 1)\n"
          ]
        }
      ]
    },
    {
      "cell_type": "code",
      "source": [
        "# Pad training, valdiation and testing datasets\n",
        "X_train = pad_sequences(tokeniser.texts_to_sequences(X_train), maxlen = max_len)\n",
        "\n",
        "X_val = pad_sequences(tokeniser.texts_to_sequences(X_val), maxlen = max_len)\n",
        "\n",
        "X_test = pad_sequences(tokeniser.texts_to_sequences(X_test), maxlen = max_len)\n",
        "\n",
        "print(\"X_train shape: \", X_train.shape)\n",
        "print(\"X_val shape: \", X_val.shape)\n",
        "print(\"X_test shape: \", X_test.shape)"
      ],
      "metadata": {
        "colab": {
          "base_uri": "https://localhost:8080/"
        },
        "id": "BvH58AYyS48G",
        "outputId": "e516e9ad-705d-41b8-8e45-d459d375ed07"
      },
      "execution_count": null,
      "outputs": [
        {
          "output_type": "stream",
          "name": "stdout",
          "text": [
            "X_train shape:  (400000, 51)\n",
            "X_val shape:  (50000, 51)\n",
            "X_test shape:  (50000, 51)\n"
          ]
        }
      ]
    },
    {
      "cell_type": "code",
      "source": [
        "# Load gloVe pretrained embedding layer\n",
        "\n",
        "from numpy import zeros, asarray\n",
        "\n",
        "path = '/content/drive/My Drive/glove.twitter.27B.100d.txt/glove.twitter.27B.100d.txt'\n",
        "glove_dimentions = 100\n",
        "\n",
        "f = open(path,'r',encoding=\"utf-8\")\n",
        "glove = f.readlines()\n",
        "f.close()\n",
        "\n",
        "embedding = dict()\n",
        "for line in glove:\n",
        "    parts = line.split()\n",
        "    embedding[parts[0]] = asarray(parts[1:], dtype='float32')\n",
        "\n",
        "vocab_size = len(vocab) + 1\n",
        "embedding_matrix = zeros((vocab_size, glove_dimentions))\n",
        "\n",
        "for word, i in vocab.items():\n",
        "        vector = embedding.get(word)\n",
        "        if vector is not None:\n",
        "            embedding_matrix[i] = vector"
      ],
      "metadata": {
        "id": "dnu7Y8tZWit5"
      },
      "execution_count": null,
      "outputs": []
    },
    {
      "cell_type": "code",
      "source": [
        "# Define LTSM model\n",
        "\n",
        "def create_ltsm():\n",
        "  model=Sequential()\n",
        "\n",
        "  model.add(layers.Embedding(vocab_size,\n",
        "                            glove_dimentions,\n",
        "                            weights = [embedding_matrix],\n",
        "                            input_length = max_len,\n",
        "                            trainable = False))\n",
        "\n",
        "  model.add(layers.Bidirectional(layers.LSTM(128, dropout = 0.2)))\n",
        "\n",
        "  model.add(layers.Dense(1, activation = \"sigmoid\"))\n",
        "\n",
        "  print(model.summary())\n",
        "\n",
        "  return model"
      ],
      "metadata": {
        "id": "gBnmF7_u03YU"
      },
      "execution_count": null,
      "outputs": []
    },
    {
      "cell_type": "code",
      "source": [
        "from keras.callbacks import ReduceLROnPlateau\n",
        "from keras import optimizers\n",
        "\n",
        "\n",
        "# Define LTSM hyperparameters\n",
        "ltsm_model = create_ltsm()\n",
        "BATCH_SIZE = 128\n",
        "EPOCHS = 15\n",
        "LR = 0.001\n",
        "optimizer = optimizers.Adam(lr=LR)\n",
        "\n",
        "# Compile and train LTSM model\n",
        "\n",
        "ltsm_model.compile(optimizer = optimizer, loss = 'binary_crossentropy', metrics = ['accuracy'])\n",
        "\n",
        "reduce_lr = ReduceLROnPlateau(monitor = 'val_loss',\n",
        "                              factor = 0.1,\n",
        "                              min_lr = 0.0001)\n",
        "\n",
        "# train model\n",
        "history = ltsm_model.fit(X_train,\n",
        "                         y_train,\n",
        "                         batch_size = BATCH_SIZE,\n",
        "                         validation_data=(X_val,y_val),\n",
        "                         epochs = EPOCHS,\n",
        "                         verbose = 1,\n",
        "                         callbacks = [reduce_lr]\n",
        "                         )"
      ],
      "metadata": {
        "colab": {
          "base_uri": "https://localhost:8080/"
        },
        "id": "GhX-OdqJ5McG",
        "outputId": "3e26a850-e97d-40e6-e225-2b77c9195662"
      },
      "execution_count": null,
      "outputs": [
        {
          "output_type": "stream",
          "name": "stdout",
          "text": [
            "Model: \"sequential_10\"\n",
            "_________________________________________________________________\n",
            " Layer (type)                Output Shape              Param #   \n",
            "=================================================================\n",
            " embedding_10 (Embedding)    (None, 51, 100)           26714000  \n",
            "                                                                 \n",
            " bidirectional_10 (Bidirecti  (None, 256)              234496    \n",
            " onal)                                                           \n",
            "                                                                 \n",
            " dense_10 (Dense)            (None, 1)                 257       \n",
            "                                                                 \n",
            "=================================================================\n",
            "Total params: 26,948,753\n",
            "Trainable params: 234,753\n",
            "Non-trainable params: 26,714,000\n",
            "_________________________________________________________________\n",
            "None\n",
            "Epoch 1/15\n",
            "3125/3125 [==============================] - 33s 10ms/step - loss: 0.5113 - accuracy: 0.7454 - val_loss: 0.4773 - val_accuracy: 0.7683 - lr: 0.0010\n",
            "Epoch 2/15\n",
            "3125/3125 [==============================] - 28s 9ms/step - loss: 0.4820 - accuracy: 0.7656 - val_loss: 0.4658 - val_accuracy: 0.7760 - lr: 0.0010\n",
            "Epoch 3/15\n",
            "3125/3125 [==============================] - 29s 9ms/step - loss: 0.4702 - accuracy: 0.7727 - val_loss: 0.4592 - val_accuracy: 0.7820 - lr: 0.0010\n",
            "Epoch 4/15\n",
            "3125/3125 [==============================] - 31s 10ms/step - loss: 0.4611 - accuracy: 0.7781 - val_loss: 0.4556 - val_accuracy: 0.7835 - lr: 0.0010\n",
            "Epoch 5/15\n",
            "3125/3125 [==============================] - 28s 9ms/step - loss: 0.4533 - accuracy: 0.7835 - val_loss: 0.4562 - val_accuracy: 0.7823 - lr: 0.0010\n",
            "Epoch 6/15\n",
            "3125/3125 [==============================] - 29s 9ms/step - loss: 0.4473 - accuracy: 0.7867 - val_loss: 0.4516 - val_accuracy: 0.7870 - lr: 0.0010\n",
            "Epoch 7/15\n",
            "3125/3125 [==============================] - 28s 9ms/step - loss: 0.4420 - accuracy: 0.7898 - val_loss: 0.4519 - val_accuracy: 0.7863 - lr: 0.0010\n",
            "Epoch 8/15\n",
            "3125/3125 [==============================] - 28s 9ms/step - loss: 0.4374 - accuracy: 0.7926 - val_loss: 0.4526 - val_accuracy: 0.7872 - lr: 0.0010\n",
            "Epoch 9/15\n",
            "3125/3125 [==============================] - 28s 9ms/step - loss: 0.4326 - accuracy: 0.7951 - val_loss: 0.4547 - val_accuracy: 0.7872 - lr: 0.0010\n",
            "Epoch 10/15\n",
            "3125/3125 [==============================] - 30s 9ms/step - loss: 0.4288 - accuracy: 0.7975 - val_loss: 0.4532 - val_accuracy: 0.7877 - lr: 0.0010\n",
            "Epoch 11/15\n",
            "3125/3125 [==============================] - 28s 9ms/step - loss: 0.4255 - accuracy: 0.7996 - val_loss: 0.4554 - val_accuracy: 0.7867 - lr: 0.0010\n",
            "Epoch 12/15\n",
            "3125/3125 [==============================] - 29s 9ms/step - loss: 0.4227 - accuracy: 0.8009 - val_loss: 0.4582 - val_accuracy: 0.7852 - lr: 0.0010\n",
            "Epoch 13/15\n",
            "3125/3125 [==============================] - 29s 9ms/step - loss: 0.4194 - accuracy: 0.8029 - val_loss: 0.4582 - val_accuracy: 0.7867 - lr: 0.0010\n",
            "Epoch 14/15\n",
            "3125/3125 [==============================] - 29s 9ms/step - loss: 0.4175 - accuracy: 0.8036 - val_loss: 0.4575 - val_accuracy: 0.7855 - lr: 0.0010\n",
            "Epoch 15/15\n",
            "3125/3125 [==============================] - 29s 9ms/step - loss: 0.4148 - accuracy: 0.8060 - val_loss: 0.4569 - val_accuracy: 0.7848 - lr: 0.0010\n"
          ]
        }
      ]
    },
    {
      "cell_type": "code",
      "source": [
        "from keras.models import Sequential, save_model, load_model"
      ],
      "metadata": {
        "id": "QfmPqycarxri"
      },
      "execution_count": null,
      "outputs": []
    },
    {
      "cell_type": "code",
      "source": [
        "# Save LTSM model for future prediction\n",
        "ltsm_model.save('/content/gdrive/My Drive/ltsm_model')"
      ],
      "metadata": {
        "id": "2VejOAvWldvo",
        "colab": {
          "base_uri": "https://localhost:8080/"
        },
        "outputId": "4bedab87-5c2e-48bc-8fd1-df88386b1ef7"
      },
      "execution_count": null,
      "outputs": [
        {
          "output_type": "stream",
          "name": "stderr",
          "text": [
            "WARNING:absl:Found untraced functions such as lstm_cell_22_layer_call_fn, lstm_cell_22_layer_call_and_return_conditional_losses, lstm_cell_23_layer_call_fn, lstm_cell_23_layer_call_and_return_conditional_losses while saving (showing 4 of 4). These functions will not be directly callable after loading.\n"
          ]
        }
      ]
    },
    {
      "cell_type": "code",
      "source": [
        "import matplotlib.pyplot as plt\n",
        "\n",
        "# Plot model performance\n",
        "acc = history.history['accuracy']\n",
        "val_acc = history.history['val_accuracy']\n",
        "loss = history.history['loss']\n",
        "val_loss = history.history['val_loss']\n",
        "\n",
        "epochs = range(1, len(acc) + 1)\n",
        "\n",
        "plt.plot(epochs, acc, 'bo', label = 'Training acc')\n",
        "plt.plot(epochs, val_acc, 'b', label = 'Validation acc')\n",
        "plt.title('Training and validation accuracy')\n",
        "plt.legend()\n",
        "plt.figure()"
      ],
      "metadata": {
        "colab": {
          "base_uri": "https://localhost:8080/",
          "height": 488
        },
        "id": "8Rw1VKhDm_Yc",
        "outputId": "282d8d03-eae2-4171-c3c2-5f4c3105d4b1"
      },
      "execution_count": null,
      "outputs": [
        {
          "output_type": "execute_result",
          "data": {
            "text/plain": [
              "<Figure size 640x480 with 0 Axes>"
            ]
          },
          "metadata": {},
          "execution_count": 62
        },
        {
          "output_type": "display_data",
          "data": {
            "text/plain": [
              "<Figure size 640x480 with 1 Axes>"
            ],
            "image/png": "[encoded data removed]"
          },
          "metadata": {}
        },
        {
          "output_type": "display_data",
          "data": {
            "text/plain": [
              "<Figure size 640x480 with 0 Axes>"
            ]
          },
          "metadata": {}
        }
      ]
    },
    {
      "cell_type": "code",
      "source": [
        "plt.plot(epochs, loss, 'bo', label = 'Training loss')\n",
        "plt.plot(epochs, val_loss, 'b', label = 'Validation loss')\n",
        "plt.title('Training and validation loss')\n",
        "plt.legend()\n",
        "plt.show()"
      ],
      "metadata": {
        "colab": {
          "base_uri": "https://localhost:8080/",
          "height": 452
        },
        "id": "k2qUCSFknAXF",
        "outputId": "1feb5a9b-d0f7-4a18-e0aa-e4f86504a439"
      },
      "execution_count": null,
      "outputs": [
        {
          "output_type": "display_data",
          "data": {
            "text/plain": [
              "<Figure size 640x480 with 1 Axes>"
            ],
            "image/png": "[encoded data removed]"
          },
          "metadata": {}
        }
      ]
    },
    {
      "cell_type": "code",
      "source": [
        "def plot_loss_accuracy(history, fig_title):\n",
        "  \"\"\"\n",
        "  Plots two graphs to display the accuracy and loss of a given CNN model\n",
        "  \"\"\"\n",
        "  loss_accuracy, (ax1, ax2) = plt.subplots(2, 1, figsize=(10,10))\n",
        "  epoch_ticks = np.arange(0, len(history.history['accuracy']), 1)\n",
        "  epoch_labels = list()\n",
        "  for label in range(len(epoch_ticks)):\n",
        "    epoch_labels.append(str(label+1))\n",
        "\n",
        "  plt.sca(ax1)\n",
        "  ax1.plot(history.history['loss'],color='#000000',label='Training Loss',\n",
        "           linewidth=3)\n",
        "  ax1.plot(history.history['val_loss'],color='#000000',label='Validation Loss',\n",
        "           linewidth=3, linestyle='dotted')\n",
        "  ax1.set_xlabel(\"\")\n",
        "  ax1.set_ylabel(\"Loss\")\n",
        "  plt.xticks(epoch_ticks, labels=epoch_labels)\n",
        "  ax1.legend()\n",
        "  ax1.set_title(fig_title, y=1.1, fontsize=16)\n",
        "\n",
        "  plt.sca(ax2)\n",
        "  ax2.plot(history.history['accuracy'],color='#000000',label='Training accuracy',\n",
        "           linewidth=3)\n",
        "  ax2.plot(history.history['val_accuracy'],color='#000000',\n",
        "           label='Validation accuracy', linewidth=3, linestyle='dotted')\n",
        "  plt.xlabel(\"Epoch\")\n",
        "  plt.ylabel(\"Accuracy\")\n",
        "  plt.xticks(epoch_ticks, labels=epoch_labels)\n",
        "  ax2.legend()\n",
        "  plt.show()"
      ],
      "metadata": {
        "id": "SfQqEaYfnjDf"
      },
      "execution_count": null,
      "outputs": []
    },
    {
      "cell_type": "code",
      "source": [
        "plot_loss_accuracy(history, 'Loss and accuracy of LTSM model')"
      ],
      "metadata": {
        "colab": {
          "base_uri": "https://localhost:8080/",
          "height": 690
        },
        "id": "pFuPlDgWnnB_",
        "outputId": "a3c2612a-6091-4cf1-b6d0-fb587c579508"
      },
      "execution_count": null,
      "outputs": [
        {
          "output_type": "display_data",
          "data": {
            "text/plain": [
              "<Figure size 1000x1000 with 2 Axes>"
            ],
            "image/png": "[encoded data removed]"
          },
          "metadata": {}
        }
      ]
    },
    {
      "cell_type": "code",
      "source": [
        "# Load traine LTSM model\n",
        "ltsm_model = load_model('/content/gdrive/My Drive/ltsm_model.keras', compile = True)"
      ],
      "metadata": {
        "id": "oIa4xPqrou_g"
      },
      "execution_count": null,
      "outputs": []
    },
    {
      "cell_type": "code",
      "source": [
        "y_pred = ltsm_model.predict(X_test)"
      ],
      "metadata": {
        "colab": {
          "base_uri": "https://localhost:8080/"
        },
        "id": "wVu4RWNzr8U0",
        "outputId": "050f1c80-51dd-4d89-8073-1b74a9e43714"
      },
      "execution_count": null,
      "outputs": [
        {
          "output_type": "stream",
          "name": "stdout",
          "text": [
            "1563/1563 [==============================] - 6s 3ms/step\n"
          ]
        }
      ]
    },
    {
      "cell_type": "code",
      "source": [
        "# Convert probability prediction from sigmoid function to binary prediction\n",
        "for i, pred in enumerate(y_pred):\n",
        "  y_pred[i] = 0 if pred[0] < 0.5 else 1"
      ],
      "metadata": {
        "id": "dJG15Kffuopv"
      },
      "execution_count": null,
      "outputs": []
    },
    {
      "cell_type": "code",
      "source": [
        "# Create new dataframe containing tweet content, correct sentiment polarity, and sentiment polarity predicted by LTSM\n",
        "data = {'Actual polarity': y_test.ravel(),\n",
        "        'Content': X_test,\n",
        "        'Predicted polarity': y_pred.ravel(),\n",
        "        }\n",
        "\n",
        "\n",
        "results = pd.DataFrame(data)\n",
        "results = results.dropna()"
      ],
      "metadata": {
        "id": "o55XwHytsrLo"
      },
      "execution_count": null,
      "outputs": []
    },
    {
      "cell_type": "code",
      "source": [
        "from sklearn.metrics import accuracy_score, recall_score, precision_score, f1_score\n",
        "\n",
        "# Calculate performance metrics for LTSM\n",
        "\n",
        "def calculate_metrics(test, pred):\n",
        "\n",
        "  accuracy = accuracy_score(test, pred)\n",
        "  recall = recall_score(test, pred, average='macro')\n",
        "  precision = precision_score(test, pred, average='macro')\n",
        "  f1 = f1_score(test, pred, average='macro')\n",
        "\n",
        "  return accuracy, precision, recall, f1\n",
        "\n",
        "accuracy, precision, recall, f1 = calculate_metrics(results[\"Actual polarity\"], results[\"Predicted polarity\"])\n",
        "\n",
        "print(\"Accuracy:\", accuracy)\n",
        "print(\"Recall:\", recall)\n",
        "print(\"Precision:\", precision)\n",
        "print(\"F1:\", f1)"
      ],
      "metadata": {
        "colab": {
          "base_uri": "https://localhost:8080/"
        },
        "id": "A2ZLilz9xbL7",
        "outputId": "f0078f0f-842a-4f5a-ef9c-868c46e2d025"
      },
      "execution_count": null,
      "outputs": [
        {
          "output_type": "stream",
          "name": "stdout",
          "text": [
            "Accuracy: 0.78046\n",
            "Recall: 0.7804590085778547\n",
            "Precision: 0.7804590556951798\n",
            "F1: 0.7804590318243303\n"
          ]
        }
      ]
    },
    {
      "cell_type": "code",
      "source": [
        "# Create new dataframe contain performance metrics\n",
        "comparison_metrics = pd.DataFrame({'Accuracy':[accuracy],\n",
        "                                  'Recall':[recall],\n",
        "                                  'Precision':[precision],\n",
        "                                  'F1':[f1]},\n",
        "                                   index=['LSTM']\n",
        "                                  )\n",
        "\n",
        "path = '/content/drive/My Drive/comparison_metrics.csv'\n",
        "\n",
        "with open(path, 'a', encoding = 'utf-8') as f:\n",
        "  comparison_metrics.to_csv(f, header=True)"
      ],
      "metadata": {
        "id": "NvMMG7IJtOqZ"
      },
      "execution_count": null,
      "outputs": []
    },
    {
      "cell_type": "markdown",
      "source": [
        "# Predict scraped tweets"
      ],
      "metadata": {
        "id": "QFZLdO6HQeWv"
      }
    },
    {
      "cell_type": "code",
      "source": [
        "from keras.models import load_model\n",
        "\n",
        "# Load previously trained LTSM model\n",
        "ltsm_model = load_model('/content/gdrive/My Drive/ltsm_model', compile = True)"
      ],
      "metadata": {
        "id": "VXUDvNTtQjMM",
        "colab": {
          "base_uri": "https://localhost:8080/",
          "height": 345
        },
        "outputId": "c051196b-6f8b-4942-a315-a9a3bb46c30e"
      },
      "execution_count": null,
      "outputs": [
        {
          "output_type": "error",
          "ename": "OSError",
          "evalue": "ignored",
          "traceback": [
            "\u001b[0;31m---------------------------------------------------------------------------\u001b[0m",
            "\u001b[0;31mOSError\u001b[0m                                   Traceback (most recent call last)",
            "\u001b[0;32m<ipython-input-18-eb9df7951629>\u001b[0m in \u001b[0;36m<cell line: 3>\u001b[0;34m()\u001b[0m\n\u001b[1;32m      1\u001b[0m \u001b[0;32mfrom\u001b[0m \u001b[0mkeras\u001b[0m\u001b[0;34m.\u001b[0m\u001b[0mmodels\u001b[0m \u001b[0;32mimport\u001b[0m \u001b[0mload_model\u001b[0m\u001b[0;34m\u001b[0m\u001b[0;34m\u001b[0m\u001b[0m\n\u001b[1;32m      2\u001b[0m \u001b[0;34m\u001b[0m\u001b[0m\n\u001b[0;32m----> 3\u001b[0;31m \u001b[0mltsm_model\u001b[0m \u001b[0;34m=\u001b[0m \u001b[0mload_model\u001b[0m\u001b[0;34m(\u001b[0m\u001b[0;34m'/content/gdrive/My Drive/ltsm_model.keras'\u001b[0m\u001b[0;34m,\u001b[0m \u001b[0mcompile\u001b[0m \u001b[0;34m=\u001b[0m \u001b[0;32mTrue\u001b[0m\u001b[0;34m)\u001b[0m\u001b[0;34m\u001b[0m\u001b[0;34m\u001b[0m\u001b[0m\n\u001b[0m",
            "\u001b[0;32m/usr/local/lib/python3.10/dist-packages/keras/saving/saving_api.py\u001b[0m in \u001b[0;36mload_model\u001b[0;34m(filepath, custom_objects, compile, safe_mode, **kwargs)\u001b[0m\n\u001b[1;32m    210\u001b[0m \u001b[0;34m\u001b[0m\u001b[0m\n\u001b[1;32m    211\u001b[0m     \u001b[0;31m# Legacy case.\u001b[0m\u001b[0;34m\u001b[0m\u001b[0;34m\u001b[0m\u001b[0m\n\u001b[0;32m--> 212\u001b[0;31m     return legacy_sm_saving_lib.load_model(\n\u001b[0m\u001b[1;32m    213\u001b[0m         \u001b[0mfilepath\u001b[0m\u001b[0;34m,\u001b[0m \u001b[0mcustom_objects\u001b[0m\u001b[0;34m=\u001b[0m\u001b[0mcustom_objects\u001b[0m\u001b[0;34m,\u001b[0m \u001b[0mcompile\u001b[0m\u001b[0;34m=\u001b[0m\u001b[0mcompile\u001b[0m\u001b[0;34m,\u001b[0m \u001b[0;34m**\u001b[0m\u001b[0mkwargs\u001b[0m\u001b[0;34m\u001b[0m\u001b[0;34m\u001b[0m\u001b[0m\n\u001b[1;32m    214\u001b[0m     )\n",
            "\u001b[0;32m/usr/local/lib/python3.10/dist-packages/keras/utils/traceback_utils.py\u001b[0m in \u001b[0;36merror_handler\u001b[0;34m(*args, **kwargs)\u001b[0m\n\u001b[1;32m     68\u001b[0m             \u001b[0;31m# To get the full stack trace, call:\u001b[0m\u001b[0;34m\u001b[0m\u001b[0;34m\u001b[0m\u001b[0m\n\u001b[1;32m     69\u001b[0m             \u001b[0;31m# `tf.debugging.disable_traceback_filtering()`\u001b[0m\u001b[0;34m\u001b[0m\u001b[0;34m\u001b[0m\u001b[0m\n\u001b[0;32m---> 70\u001b[0;31m             \u001b[0;32mraise\u001b[0m \u001b[0me\u001b[0m\u001b[0;34m.\u001b[0m\u001b[0mwith_traceback\u001b[0m\u001b[0;34m(\u001b[0m\u001b[0mfiltered_tb\u001b[0m\u001b[0;34m)\u001b[0m \u001b[0;32mfrom\u001b[0m \u001b[0;32mNone\u001b[0m\u001b[0;34m\u001b[0m\u001b[0;34m\u001b[0m\u001b[0m\n\u001b[0m\u001b[1;32m     71\u001b[0m         \u001b[0;32mfinally\u001b[0m\u001b[0;34m:\u001b[0m\u001b[0;34m\u001b[0m\u001b[0;34m\u001b[0m\u001b[0m\n\u001b[1;32m     72\u001b[0m             \u001b[0;32mdel\u001b[0m \u001b[0mfiltered_tb\u001b[0m\u001b[0;34m\u001b[0m\u001b[0;34m\u001b[0m\u001b[0m\n",
            "\u001b[0;32m/usr/local/lib/python3.10/dist-packages/keras/saving/legacy/save.py\u001b[0m in \u001b[0;36mload_model\u001b[0;34m(filepath, custom_objects, compile, options)\u001b[0m\n\u001b[1;32m    228\u001b[0m                     \u001b[0;32mif\u001b[0m \u001b[0misinstance\u001b[0m\u001b[0;34m(\u001b[0m\u001b[0mfilepath_str\u001b[0m\u001b[0;34m,\u001b[0m \u001b[0mstr\u001b[0m\u001b[0;34m)\u001b[0m\u001b[0;34m:\u001b[0m\u001b[0;34m\u001b[0m\u001b[0;34m\u001b[0m\u001b[0m\n\u001b[1;32m    229\u001b[0m                         \u001b[0;32mif\u001b[0m \u001b[0;32mnot\u001b[0m \u001b[0mtf\u001b[0m\u001b[0;34m.\u001b[0m\u001b[0mio\u001b[0m\u001b[0;34m.\u001b[0m\u001b[0mgfile\u001b[0m\u001b[0;34m.\u001b[0m\u001b[0mexists\u001b[0m\u001b[0;34m(\u001b[0m\u001b[0mfilepath_str\u001b[0m\u001b[0;34m)\u001b[0m\u001b[0;34m:\u001b[0m\u001b[0;34m\u001b[0m\u001b[0;34m\u001b[0m\u001b[0m\n\u001b[0;32m--> 230\u001b[0;31m                             raise IOError(\n\u001b[0m\u001b[1;32m    231\u001b[0m                                 \u001b[0;34mf\"No file or directory found at {filepath_str}\"\u001b[0m\u001b[0;34m\u001b[0m\u001b[0;34m\u001b[0m\u001b[0m\n\u001b[1;32m    232\u001b[0m                             )\n",
            "\u001b[0;31mOSError\u001b[0m: No file or directory found at /content/gdrive/My Drive/ltsm_model.keras"
          ]
        }
      ]
    },
    {
      "cell_type": "code",
      "source": [
        "path = '/content/drive/My Drive/preprocessedScraped.csv'\n",
        "\n",
        "# Load dataset of scraped tweets\n",
        "with open(path, 'r', encoding = 'utf-8') as f:\n",
        "  tweets_df = pd.read_csv(f, index_col=0)\n",
        "\n",
        "tweets_df.head(len(tweets_df))"
      ],
      "metadata": {
        "colab": {
          "base_uri": "https://localhost:8080/",
          "height": 423
        },
        "id": "9V5oETehTqWz",
        "outputId": "1528a5c0-40fd-4226-dbc7-43ee2ab037ba"
      },
      "execution_count": null,
      "outputs": [
        {
          "output_type": "execute_result",
          "data": {
            "text/plain": [
              "               mdy                       date  \\\n",
              "0       2023-03-06  2023-03-06 23:58:49+00:00   \n",
              "1       2023-03-06  2023-03-06 23:58:07+00:00   \n",
              "2       2023-03-06  2023-03-06 23:57:47+00:00   \n",
              "3       2023-03-06  2023-03-06 23:54:57+00:00   \n",
              "4       2023-03-06  2023-03-06 23:54:52+00:00   \n",
              "...            ...                        ...   \n",
              "354888  2022-03-07  2022-03-07 07:25:09+00:00   \n",
              "354889  2022-03-07  2022-03-07 07:24:10+00:00   \n",
              "354890  2022-03-07  2022-03-07 07:23:30+00:00   \n",
              "354891  2022-03-07  2022-03-07 07:17:32+00:00   \n",
              "354892  2022-03-07  2022-03-07 07:17:05+00:00   \n",
              "\n",
              "                                                  content  likes  retweets  \n",
              "0                                    girl explain bitcoin    501       140  \n",
              "1       roughly hour leave pulsechain testnet fully sy...     32         1  \n",
              "2       come join conversation bitcoin fix hood americ...     24         1  \n",
              "3       get haircut pay bitcoin feel good always offer...     14         0  \n",
              "4       bitcoin usd weekly wrong bearish rising wedge ...    721        65  \n",
              "...                                                   ...    ...       ...  \n",
              "354888  gold act exactly store value preserve wealth c...    264        28  \n",
              "354889  see selloff tym bitcoin hold ema wts go happen...     27         1  \n",
              "354890                      many follower bitcoin bitcoin     30        16  \n",
              "354891  reserve risk useful opinion underused indicato...    112        22  \n",
              "354892  clayfriendsnft revealeddd love art super bulli...     14         2  \n",
              "\n",
              "[354893 rows x 5 columns]"
            ],
            "text/html": [
              "\n",
              "  <div id=\"df-005d6557-18f4-4773-8286-1f8004d77da9\">\n",
              "    <div class=\"colab-df-container\">\n",
              "      <div>\n",
              "<style scoped>\n",
              "    .dataframe tbody tr th:only-of-type {\n",
              "        vertical-align: middle;\n",
              "    }\n",
              "\n",
              "    .dataframe tbody tr th {\n",
              "        vertical-align: top;\n",
              "    }\n",
              "\n",
              "    .dataframe thead th {\n",
              "        text-align: right;\n",
              "    }\n",
              "</style>\n",
              "<table border=\"1\" class=\"dataframe\">\n",
              "  <thead>\n",
              "    <tr style=\"text-align: right;\">\n",
              "      <th></th>\n",
              "      <th>mdy</th>\n",
              "      <th>date</th>\n",
              "      <th>content</th>\n",
              "      <th>likes</th>\n",
              "      <th>retweets</th>\n",
              "    </tr>\n",
              "  </thead>\n",
              "  <tbody>\n",
              "    <tr>\n",
              "      <th>0</th>\n",
              "      <td>2023-03-06</td>\n",
              "      <td>2023-03-06 23:58:49+00:00</td>\n",
              "      <td>girl explain bitcoin</td>\n",
              "      <td>501</td>\n",
              "      <td>140</td>\n",
              "    </tr>\n",
              "    <tr>\n",
              "      <th>1</th>\n",
              "      <td>2023-03-06</td>\n",
              "      <td>2023-03-06 23:58:07+00:00</td>\n",
              "      <td>roughly hour leave pulsechain testnet fully sy...</td>\n",
              "      <td>32</td>\n",
              "      <td>1</td>\n",
              "    </tr>\n",
              "    <tr>\n",
              "      <th>2</th>\n",
              "      <td>2023-03-06</td>\n",
              "      <td>2023-03-06 23:57:47+00:00</td>\n",
              "      <td>come join conversation bitcoin fix hood americ...</td>\n",
              "      <td>24</td>\n",
              "      <td>1</td>\n",
              "    </tr>\n",
              "    <tr>\n",
              "      <th>3</th>\n",
              "      <td>2023-03-06</td>\n",
              "      <td>2023-03-06 23:54:57+00:00</td>\n",
              "      <td>get haircut pay bitcoin feel good always offer...</td>\n",
              "      <td>14</td>\n",
              "      <td>0</td>\n",
              "    </tr>\n",
              "    <tr>\n",
              "      <th>4</th>\n",
              "      <td>2023-03-06</td>\n",
              "      <td>2023-03-06 23:54:52+00:00</td>\n",
              "      <td>bitcoin usd weekly wrong bearish rising wedge ...</td>\n",
              "      <td>721</td>\n",
              "      <td>65</td>\n",
              "    </tr>\n",
              "    <tr>\n",
              "      <th>...</th>\n",
              "      <td>...</td>\n",
              "      <td>...</td>\n",
              "      <td>...</td>\n",
              "      <td>...</td>\n",
              "      <td>...</td>\n",
              "    </tr>\n",
              "    <tr>\n",
              "      <th>354888</th>\n",
              "      <td>2022-03-07</td>\n",
              "      <td>2022-03-07 07:25:09+00:00</td>\n",
              "      <td>gold act exactly store value preserve wealth c...</td>\n",
              "      <td>264</td>\n",
              "      <td>28</td>\n",
              "    </tr>\n",
              "    <tr>\n",
              "      <th>354889</th>\n",
              "      <td>2022-03-07</td>\n",
              "      <td>2022-03-07 07:24:10+00:00</td>\n",
              "      <td>see selloff tym bitcoin hold ema wts go happen...</td>\n",
              "      <td>27</td>\n",
              "      <td>1</td>\n",
              "    </tr>\n",
              "    <tr>\n",
              "      <th>354890</th>\n",
              "      <td>2022-03-07</td>\n",
              "      <td>2022-03-07 07:23:30+00:00</td>\n",
              "      <td>many follower bitcoin bitcoin</td>\n",
              "      <td>30</td>\n",
              "      <td>16</td>\n",
              "    </tr>\n",
              "    <tr>\n",
              "      <th>354891</th>\n",
              "      <td>2022-03-07</td>\n",
              "      <td>2022-03-07 07:17:32+00:00</td>\n",
              "      <td>reserve risk useful opinion underused indicato...</td>\n",
              "      <td>112</td>\n",
              "      <td>22</td>\n",
              "    </tr>\n",
              "    <tr>\n",
              "      <th>354892</th>\n",
              "      <td>2022-03-07</td>\n",
              "      <td>2022-03-07 07:17:05+00:00</td>\n",
              "      <td>clayfriendsnft revealeddd love art super bulli...</td>\n",
              "      <td>14</td>\n",
              "      <td>2</td>\n",
              "    </tr>\n",
              "  </tbody>\n",
              "</table>\n",
              "<p>354893 rows × 5 columns</p>\n",
              "</div>\n",
              "      <button class=\"colab-df-convert\" onclick=\"convertToInteractive('df-005d6557-18f4-4773-8286-1f8004d77da9')\"\n",
              "              title=\"Convert this dataframe to an interactive table.\"\n",
              "              style=\"display:none;\">\n",
              "        \n",
              "  <svg xmlns=\"http://www.w3.org/2000/svg\" height=\"24px\"viewBox=\"0 0 24 24\"\n",
              "       width=\"24px\">\n",
              "    <path d=\"M0 0h24v24H0V0z\" fill=\"none\"/>\n",
              "    <path d=\"M18.56 5.44l.94 2.06.94-2.06 2.06-.94-2.06-.94-.94-2.06-.94 2.06-2.06.94zm-11 1L8.5 8.5l.94-2.06 2.06-.94-2.06-.94L8.5 2.5l-.94 2.06-2.06.94zm10 10l.94 2.06.94-2.06 2.06-.94-2.06-.94-.94-2.06-.94 2.06-2.06.94z\"/><path d=\"M17.41 7.96l-1.37-1.37c-.4-.4-.92-.59-1.43-.59-.52 0-1.04.2-1.43.59L10.3 9.45l-7.72 7.72c-.78.78-.78 2.05 0 2.83L4 21.41c.39.39.9.59 1.41.59.51 0 1.02-.2 1.41-.59l7.78-7.78 2.81-2.81c.8-.78.8-2.07 0-2.86zM5.41 20L4 18.59l7.72-7.72 1.47 1.35L5.41 20z\"/>\n",
              "  </svg>\n",
              "      </button>\n",
              "      \n",
              "  <style>\n",
              "    .colab-df-container {\n",
              "      display:flex;\n",
              "      flex-wrap:wrap;\n",
              "      gap: 12px;\n",
              "    }\n",
              "\n",
              "    .colab-df-convert {\n",
              "      background-color: #E8F0FE;\n",
              "      border: none;\n",
              "      border-radius: 50%;\n",
              "      cursor: pointer;\n",
              "      display: none;\n",
              "      fill: #1967D2;\n",
              "      height: 32px;\n",
              "      padding: 0 0 0 0;\n",
              "      width: 32px;\n",
              "    }\n",
              "\n",
              "    .colab-df-convert:hover {\n",
              "      background-color: #E2EBFA;\n",
              "      box-shadow: 0px 1px 2px rgba(60, 64, 67, 0.3), 0px 1px 3px 1px rgba(60, 64, 67, 0.15);\n",
              "      fill: #174EA6;\n",
              "    }\n",
              "\n",
              "    [theme=dark] .colab-df-convert {\n",
              "      background-color: #3B4455;\n",
              "      fill: #D2E3FC;\n",
              "    }\n",
              "\n",
              "    [theme=dark] .colab-df-convert:hover {\n",
              "      background-color: #434B5C;\n",
              "      box-shadow: 0px 1px 3px 1px rgba(0, 0, 0, 0.15);\n",
              "      filter: drop-shadow(0px 1px 2px rgba(0, 0, 0, 0.3));\n",
              "      fill: #FFFFFF;\n",
              "    }\n",
              "  </style>\n",
              "\n",
              "      <script>\n",
              "        const buttonEl =\n",
              "          document.querySelector('#df-005d6557-18f4-4773-8286-1f8004d77da9 button.colab-df-convert');\n",
              "        buttonEl.style.display =\n",
              "          google.colab.kernel.accessAllowed ? 'block' : 'none';\n",
              "\n",
              "        async function convertToInteractive(key) {\n",
              "          const element = document.querySelector('#df-005d6557-18f4-4773-8286-1f8004d77da9');\n",
              "          const dataTable =\n",
              "            await google.colab.kernel.invokeFunction('convertToInteractive',\n",
              "                                                     [key], {});\n",
              "          if (!dataTable) return;\n",
              "\n",
              "          const docLinkHtml = 'Like what you see? Visit the ' +\n",
              "            '<a target=\"_blank\" href=https://colab.research.google.com/notebooks/data_table.ipynb>data table notebook</a>'\n",
              "            + ' to learn more about interactive tables.';\n",
              "          element.innerHTML = '';\n",
              "          dataTable['output_type'] = 'display_data';\n",
              "          await google.colab.output.renderOutput(dataTable, element);\n",
              "          const docLink = document.createElement('div');\n",
              "          docLink.innerHTML = docLinkHtml;\n",
              "          element.appendChild(docLink);\n",
              "        }\n",
              "      </script>\n",
              "    </div>\n",
              "  </div>\n",
              "  "
            ]
          },
          "metadata": {},
          "execution_count": 19
        }
      ]
    },
    {
      "cell_type": "code",
      "source": [
        "# Pad text content of dataset\n",
        "X_test = pad_sequences(tokeniser.texts_to_sequences(tweets_df['content']),maxlen = max_len)"
      ],
      "metadata": {
        "id": "A27E7vG_T5aE"
      },
      "execution_count": null,
      "outputs": []
    },
    {
      "cell_type": "code",
      "source": [
        "# Predict sentiment polarity of tweets\n",
        "y_pred = ltsm_model.predict(X_test)"
      ],
      "metadata": {
        "colab": {
          "base_uri": "https://localhost:8080/"
        },
        "id": "2GWK0OahQc_f",
        "outputId": "4d7c4d95-13bb-4c58-f56c-5e156b1caa04"
      },
      "execution_count": null,
      "outputs": [
        {
          "output_type": "stream",
          "name": "stdout",
          "text": [
            "11091/11091 [==============================] - 28s 3ms/step\n"
          ]
        }
      ]
    },
    {
      "cell_type": "code",
      "source": [
        "# Convert probability prediction from sigmoid function to binary prediction\n",
        "for i, pred in enumerate(y_pred):\n",
        "  y_pred[i] = 0 if pred[0] < 0.5 else 1"
      ],
      "metadata": {
        "id": "ITgT3zCyU2ui"
      },
      "execution_count": null,
      "outputs": []
    },
    {
      "cell_type": "code",
      "source": [
        "# Flatten sentiment polarity prediction dataset\n",
        "tweets_df['Sentiment'] = y_pred.reshape(-1)"
      ],
      "metadata": {
        "id": "X-Ykgp2-UdMI"
      },
      "execution_count": null,
      "outputs": []
    },
    {
      "cell_type": "code",
      "source": [
        "tweets_df.head(len(tweets_df))"
      ],
      "metadata": {
        "colab": {
          "base_uri": "https://localhost:8080/",
          "height": 423
        },
        "id": "WAaN_XlsU60c",
        "outputId": "63b92f66-b083-4b49-80a8-bbfd35edaa2b"
      },
      "execution_count": null,
      "outputs": [
        {
          "output_type": "execute_result",
          "data": {
            "text/plain": [
              "               mdy                       date  \\\n",
              "0       2023-03-06  2023-03-06 23:58:49+00:00   \n",
              "1       2023-03-06  2023-03-06 23:58:07+00:00   \n",
              "2       2023-03-06  2023-03-06 23:57:47+00:00   \n",
              "3       2023-03-06  2023-03-06 23:54:57+00:00   \n",
              "4       2023-03-06  2023-03-06 23:54:52+00:00   \n",
              "...            ...                        ...   \n",
              "354888  2022-03-07  2022-03-07 07:25:09+00:00   \n",
              "354889  2022-03-07  2022-03-07 07:24:10+00:00   \n",
              "354890  2022-03-07  2022-03-07 07:23:30+00:00   \n",
              "354891  2022-03-07  2022-03-07 07:17:32+00:00   \n",
              "354892  2022-03-07  2022-03-07 07:17:05+00:00   \n",
              "\n",
              "                                                  content  likes  retweets  \\\n",
              "0                                    girl explain bitcoin    501       140   \n",
              "1       roughly hour leave pulsechain testnet fully sy...     32         1   \n",
              "2       come join conversation bitcoin fix hood americ...     24         1   \n",
              "3       get haircut pay bitcoin feel good always offer...     14         0   \n",
              "4       bitcoin usd weekly wrong bearish rising wedge ...    721        65   \n",
              "...                                                   ...    ...       ...   \n",
              "354888  gold act exactly store value preserve wealth c...    264        28   \n",
              "354889  see selloff tym bitcoin hold ema wts go happen...     27         1   \n",
              "354890                      many follower bitcoin bitcoin     30        16   \n",
              "354891  reserve risk useful opinion underused indicato...    112        22   \n",
              "354892  clayfriendsnft revealeddd love art super bulli...     14         2   \n",
              "\n",
              "        Sentiment  \n",
              "0             1.0  \n",
              "1             1.0  \n",
              "2             1.0  \n",
              "3             1.0  \n",
              "4             0.0  \n",
              "...           ...  \n",
              "354888        0.0  \n",
              "354889        0.0  \n",
              "354890        0.0  \n",
              "354891        1.0  \n",
              "354892        1.0  \n",
              "\n",
              "[354893 rows x 6 columns]"
            ],
            "text/html": [
              "\n",
              "  <div id=\"df-43a5725c-7bed-4284-8fd9-f00d39c44f13\">\n",
              "    <div class=\"colab-df-container\">\n",
              "      <div>\n",
              "<style scoped>\n",
              "    .dataframe tbody tr th:only-of-type {\n",
              "        vertical-align: middle;\n",
              "    }\n",
              "\n",
              "    .dataframe tbody tr th {\n",
              "        vertical-align: top;\n",
              "    }\n",
              "\n",
              "    .dataframe thead th {\n",
              "        text-align: right;\n",
              "    }\n",
              "</style>\n",
              "<table border=\"1\" class=\"dataframe\">\n",
              "  <thead>\n",
              "    <tr style=\"text-align: right;\">\n",
              "      <th></th>\n",
              "      <th>mdy</th>\n",
              "      <th>date</th>\n",
              "      <th>content</th>\n",
              "      <th>likes</th>\n",
              "      <th>retweets</th>\n",
              "      <th>Sentiment</th>\n",
              "    </tr>\n",
              "  </thead>\n",
              "  <tbody>\n",
              "    <tr>\n",
              "      <th>0</th>\n",
              "      <td>2023-03-06</td>\n",
              "      <td>2023-03-06 23:58:49+00:00</td>\n",
              "      <td>girl explain bitcoin</td>\n",
              "      <td>501</td>\n",
              "      <td>140</td>\n",
              "      <td>1.0</td>\n",
              "    </tr>\n",
              "    <tr>\n",
              "      <th>1</th>\n",
              "      <td>2023-03-06</td>\n",
              "      <td>2023-03-06 23:58:07+00:00</td>\n",
              "      <td>roughly hour leave pulsechain testnet fully sy...</td>\n",
              "      <td>32</td>\n",
              "      <td>1</td>\n",
              "      <td>1.0</td>\n",
              "    </tr>\n",
              "    <tr>\n",
              "      <th>2</th>\n",
              "      <td>2023-03-06</td>\n",
              "      <td>2023-03-06 23:57:47+00:00</td>\n",
              "      <td>come join conversation bitcoin fix hood americ...</td>\n",
              "      <td>24</td>\n",
              "      <td>1</td>\n",
              "      <td>1.0</td>\n",
              "    </tr>\n",
              "    <tr>\n",
              "      <th>3</th>\n",
              "      <td>2023-03-06</td>\n",
              "      <td>2023-03-06 23:54:57+00:00</td>\n",
              "      <td>get haircut pay bitcoin feel good always offer...</td>\n",
              "      <td>14</td>\n",
              "      <td>0</td>\n",
              "      <td>1.0</td>\n",
              "    </tr>\n",
              "    <tr>\n",
              "      <th>4</th>\n",
              "      <td>2023-03-06</td>\n",
              "      <td>2023-03-06 23:54:52+00:00</td>\n",
              "      <td>bitcoin usd weekly wrong bearish rising wedge ...</td>\n",
              "      <td>721</td>\n",
              "      <td>65</td>\n",
              "      <td>0.0</td>\n",
              "    </tr>\n",
              "    <tr>\n",
              "      <th>...</th>\n",
              "      <td>...</td>\n",
              "      <td>...</td>\n",
              "      <td>...</td>\n",
              "      <td>...</td>\n",
              "      <td>...</td>\n",
              "      <td>...</td>\n",
              "    </tr>\n",
              "    <tr>\n",
              "      <th>354888</th>\n",
              "      <td>2022-03-07</td>\n",
              "      <td>2022-03-07 07:25:09+00:00</td>\n",
              "      <td>gold act exactly store value preserve wealth c...</td>\n",
              "      <td>264</td>\n",
              "      <td>28</td>\n",
              "      <td>0.0</td>\n",
              "    </tr>\n",
              "    <tr>\n",
              "      <th>354889</th>\n",
              "      <td>2022-03-07</td>\n",
              "      <td>2022-03-07 07:24:10+00:00</td>\n",
              "      <td>see selloff tym bitcoin hold ema wts go happen...</td>\n",
              "      <td>27</td>\n",
              "      <td>1</td>\n",
              "      <td>0.0</td>\n",
              "    </tr>\n",
              "    <tr>\n",
              "      <th>354890</th>\n",
              "      <td>2022-03-07</td>\n",
              "      <td>2022-03-07 07:23:30+00:00</td>\n",
              "      <td>many follower bitcoin bitcoin</td>\n",
              "      <td>30</td>\n",
              "      <td>16</td>\n",
              "      <td>0.0</td>\n",
              "    </tr>\n",
              "    <tr>\n",
              "      <th>354891</th>\n",
              "      <td>2022-03-07</td>\n",
              "      <td>2022-03-07 07:17:32+00:00</td>\n",
              "      <td>reserve risk useful opinion underused indicato...</td>\n",
              "      <td>112</td>\n",
              "      <td>22</td>\n",
              "      <td>1.0</td>\n",
              "    </tr>\n",
              "    <tr>\n",
              "      <th>354892</th>\n",
              "      <td>2022-03-07</td>\n",
              "      <td>2022-03-07 07:17:05+00:00</td>\n",
              "      <td>clayfriendsnft revealeddd love art super bulli...</td>\n",
              "      <td>14</td>\n",
              "      <td>2</td>\n",
              "      <td>1.0</td>\n",
              "    </tr>\n",
              "  </tbody>\n",
              "</table>\n",
              "<p>354893 rows × 6 columns</p>\n",
              "</div>\n",
              "      <button class=\"colab-df-convert\" onclick=\"convertToInteractive('df-43a5725c-7bed-4284-8fd9-f00d39c44f13')\"\n",
              "              title=\"Convert this dataframe to an interactive table.\"\n",
              "              style=\"display:none;\">\n",
              "        \n",
              "  <svg xmlns=\"http://www.w3.org/2000/svg\" height=\"24px\"viewBox=\"0 0 24 24\"\n",
              "       width=\"24px\">\n",
              "    <path d=\"M0 0h24v24H0V0z\" fill=\"none\"/>\n",
              "    <path d=\"M18.56 5.44l.94 2.06.94-2.06 2.06-.94-2.06-.94-.94-2.06-.94 2.06-2.06.94zm-11 1L8.5 8.5l.94-2.06 2.06-.94-2.06-.94L8.5 2.5l-.94 2.06-2.06.94zm10 10l.94 2.06.94-2.06 2.06-.94-2.06-.94-.94-2.06-.94 2.06-2.06.94z\"/><path d=\"M17.41 7.96l-1.37-1.37c-.4-.4-.92-.59-1.43-.59-.52 0-1.04.2-1.43.59L10.3 9.45l-7.72 7.72c-.78.78-.78 2.05 0 2.83L4 21.41c.39.39.9.59 1.41.59.51 0 1.02-.2 1.41-.59l7.78-7.78 2.81-2.81c.8-.78.8-2.07 0-2.86zM5.41 20L4 18.59l7.72-7.72 1.47 1.35L5.41 20z\"/>\n",
              "  </svg>\n",
              "      </button>\n",
              "      \n",
              "  <style>\n",
              "    .colab-df-container {\n",
              "      display:flex;\n",
              "      flex-wrap:wrap;\n",
              "      gap: 12px;\n",
              "    }\n",
              "\n",
              "    .colab-df-convert {\n",
              "      background-color: #E8F0FE;\n",
              "      border: none;\n",
              "      border-radius: 50%;\n",
              "      cursor: pointer;\n",
              "      display: none;\n",
              "      fill: #1967D2;\n",
              "      height: 32px;\n",
              "      padding: 0 0 0 0;\n",
              "      width: 32px;\n",
              "    }\n",
              "\n",
              "    .colab-df-convert:hover {\n",
              "      background-color: #E2EBFA;\n",
              "      box-shadow: 0px 1px 2px rgba(60, 64, 67, 0.3), 0px 1px 3px 1px rgba(60, 64, 67, 0.15);\n",
              "      fill: #174EA6;\n",
              "    }\n",
              "\n",
              "    [theme=dark] .colab-df-convert {\n",
              "      background-color: #3B4455;\n",
              "      fill: #D2E3FC;\n",
              "    }\n",
              "\n",
              "    [theme=dark] .colab-df-convert:hover {\n",
              "      background-color: #434B5C;\n",
              "      box-shadow: 0px 1px 3px 1px rgba(0, 0, 0, 0.15);\n",
              "      filter: drop-shadow(0px 1px 2px rgba(0, 0, 0, 0.3));\n",
              "      fill: #FFFFFF;\n",
              "    }\n",
              "  </style>\n",
              "\n",
              "      <script>\n",
              "        const buttonEl =\n",
              "          document.querySelector('#df-43a5725c-7bed-4284-8fd9-f00d39c44f13 button.colab-df-convert');\n",
              "        buttonEl.style.display =\n",
              "          google.colab.kernel.accessAllowed ? 'block' : 'none';\n",
              "\n",
              "        async function convertToInteractive(key) {\n",
              "          const element = document.querySelector('#df-43a5725c-7bed-4284-8fd9-f00d39c44f13');\n",
              "          const dataTable =\n",
              "            await google.colab.kernel.invokeFunction('convertToInteractive',\n",
              "                                                     [key], {});\n",
              "          if (!dataTable) return;\n",
              "\n",
              "          const docLinkHtml = 'Like what you see? Visit the ' +\n",
              "            '<a target=\"_blank\" href=https://colab.research.google.com/notebooks/data_table.ipynb>data table notebook</a>'\n",
              "            + ' to learn more about interactive tables.';\n",
              "          element.innerHTML = '';\n",
              "          dataTable['output_type'] = 'display_data';\n",
              "          await google.colab.output.renderOutput(dataTable, element);\n",
              "          const docLink = document.createElement('div');\n",
              "          docLink.innerHTML = docLinkHtml;\n",
              "          element.appendChild(docLink);\n",
              "        }\n",
              "      </script>\n",
              "    </div>\n",
              "  </div>\n",
              "  "
            ]
          },
          "metadata": {},
          "execution_count": 44
        }
      ]
    },
    {
      "cell_type": "code",
      "source": [],
      "metadata": {
        "id": "ivbqGFt4D6Ca"
      },
      "execution_count": null,
      "outputs": []
    },
    {
      "cell_type": "code",
      "source": [
        "# Save dataset of tweets labeled with their sentiment polarity\n",
        "path = '/content/drive/My Drive/btcTweetWithSentiment.csv'\n",
        "\n",
        "with open(path, 'w', encoding = 'utf-8') as f:\n",
        "  tweets_df.to_csv(f)"
      ],
      "metadata": {
        "id": "OlxO9eVuULXx"
      },
      "execution_count": null,
      "outputs": []
    }
  ]
}
