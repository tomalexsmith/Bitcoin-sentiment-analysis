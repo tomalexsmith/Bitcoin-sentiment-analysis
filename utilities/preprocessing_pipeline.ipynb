{
  "cells": [
    {
      "cell_type": "markdown",
      "metadata": {
        "id": "view-in-github",
        "colab_type": "text"
      },
      "source": [
        "<a href=\"https://colab.research.google.com/github/tomalexsmith/Bitcoin-sentiment-analysis/blob/main/preprocessing_pipeline.ipynb\" target=\"_parent\"><img src=\"https://colab.research.google.com/assets/colab-badge.svg\" alt=\"Open In Colab\"/></a>"
      ]
    },
    {
      "cell_type": "markdown",
      "metadata": {
        "id": "VKXvaE9OQQAs"
      },
      "source": [
        "### Slang dictionary"
      ]
    },
    {
      "cell_type": "code",
      "execution_count": null,
      "metadata": {
        "id": "SF7jK1JZ9xK3"
      },
      "outputs": [],
      "source": [
        "SLANG_WORDS = {\n",
        "  'crypto':'cryptocurrency',\n",
        "  'potus':'president of the united states',\n",
        "  'btc':'bitcoin',\n",
        "  'eth':'ethereum',\n",
        "  'dont':'do not',\n",
        "  'dm':'direct message',\n",
        "  'bout' : 'about',\n",
        "  'fab':'fabulous',\n",
        "  'wkend':'weekend',\n",
        "  'wknd':'weekend',\n",
        "  'tomoro':'tomorrow',\n",
        "  'wit' :'with',\n",
        "  'frm' :'from',\n",
        "  'c' : 'see',\n",
        "  'yall':'all of you',\n",
        "  'cant':'cannot',\n",
        "  'yr':'yes',\n",
        "  'iam':'i am',\n",
        "  'f ing' :'fucking',\n",
        "  'boyf' : 'boyfriend',\n",
        "  'nite':'night',\n",
        "  'wrk':'work',\n",
        "  'th':'the',\n",
        "  'sum': 'some',\n",
        "  'smthn':'something',\n",
        "  'smthin':'something',\n",
        "  'da':'the',\n",
        "  'wen':'when',\n",
        "  'tink':'think',\n",
        "  'sed':'said',\n",
        "  'n' : 'and',\n",
        "  'v':'very',\n",
        "  'yo': 'your',\n",
        "  'makin':'making',\n",
        "  'wer':'where',\n",
        "  'yer' : 'you',\n",
        "  'j' : 'just',\n",
        "  'rite' : 'right',\n",
        "  'rite' : 'right',\n",
        "  'sup' : 'what is up',\n",
        "  'im' : 'i am',\n",
        "  'im': 'i am',\n",
        "  'meetin' : 'meeting',\n",
        "  'alot' : 'a lot',\n",
        "  'moro' : 'tomorrow',\n",
        "  'ya' : 'you',\n",
        "  'skool' : 'school',\n",
        "  'hmwk' : 'homework',\n",
        "  'waz' : 'was',\n",
        "  'aint' : 'have not',\n",
        "  'w' : 'with',\n",
        "  'wyou' : 'with you',\n",
        "  'hubby': 'husband',\n",
        "  '2day': 'today',\n",
        "  '2nite': 'tonight',\n",
        "  '4u': 'for you',\n",
        "  'a/n': 'author note',\n",
        "  'a/w': 'anyway',\n",
        "  'afaic': 'as far as I am concerned',\n",
        "  'afaik': 'as far as I know',\n",
        "  'afk': 'away from keyboard',\n",
        "  'aggro':\t'aggresive',\n",
        "  'aight': 'alright',\n",
        "  'aka': 'as known as',\n",
        "  'alol':\t'actually laughing out loud',\n",
        "  'amz': 'amazing',\n",
        "  'app': 'application',\n",
        "  'asap':\t'as soon as possible',\n",
        "  'atm': 'at the moment',\n",
        "  'atw': 'all the way',\n",
        "  'b/c': 'because',\n",
        "  'b-day': 'birthday',\n",
        "  'b4': 'before',\n",
        "  'b4n': 'bye for now',\n",
        "  'bae': 'before anyone else',\n",
        "  'bbl': 'be back later',\n",
        "  'bday': 'birthday',\n",
        "  'becuz':'because',\n",
        "  'bent':\t'angry',\n",
        "  'bestie': 'best friend',\n",
        "  'besty':'best friend',\n",
        "  'bf':'boyfriend',\n",
        "  'bff':'best friends forever',\n",
        "  'bffe':'best friends forever',\n",
        "  'bfn':'bye for now',\n",
        "  'bmfe':'best mates forever',\n",
        "  'bmfl':'best mates life',\n",
        "  'bozo':'idiot',\n",
        "  'brah':'friend',\n",
        "  'bravo':'well done',\n",
        "  'brb':'be right back',\n",
        "  'bro':'brother',\n",
        "  'bta':'but then again',\n",
        "  'btdt':'been there, done that',\n",
        "  'btr':'better',\n",
        "  'btw':'by the way',\n",
        "  'buddy':'friend',\n",
        "  'c\\'mon':'come on',\n",
        "  'congrats':'congratulations',\n",
        "  'copacetic':'excellent',\n",
        "  'coz':'beacause',\n",
        "  'cu':'see you',\n",
        "  'cul8r':'see you later',\n",
        "  'cuz':'because',\n",
        "  'cya':'bye',\n",
        "  'dbau':'doing business as usual',\n",
        "  'deets':'details',\n",
        "  'dmn':'damn',\n",
        "  'dope':'stupid',\n",
        "  'dunno':'do not know',\n",
        "  'dwi':'deal with it',\n",
        "  'dyd':'do not dare',\n",
        "  'eu':'europe',\n",
        "  'ez':'easy',\n",
        "  'fav':'favorite',\n",
        "  'fb':'facebook',\n",
        "  'flick':'movie',\n",
        "  'fml':'fuck my life',\n",
        "  'friggin':'freaking',\n",
        "  'fttn':'for the time being',\n",
        "  'ftw':'for the win',\n",
        "  'fud':'fear, uncertainty, and doubt',\n",
        "  'fwiw':'for what it is worth',\n",
        "  'fyi':'for your information',\n",
        "  'g2g':'got to go',\n",
        "  'ga':'go ahead',\n",
        "  'gal':'get a life',\n",
        "  'getcha':'understand',\n",
        "  'gf':'girlfriend',\n",
        "  'gfn':'gone for now',\n",
        "  'gg':'good game',\n",
        "  'gj':'good job',\n",
        "  'gl':'good luck',\n",
        "  'glhf':'good luck have fun',\n",
        "  'gmab':'give me a break',\n",
        "  'gmta':'great minds think alike',\n",
        "  'gr8':'great',\n",
        "  'gtg':'got to go',\n",
        "  'gud':'good',\n",
        "  'h8':'hate',\n",
        "  'hf':'have fun',\n",
        "  'hml':'hate my life',\n",
        "  'hhis':'hanging head in shame',\n",
        "  'hmu':'hit me up',\n",
        "  'hru':'how are you',\n",
        "  'twt':'hope this helps',\n",
        "  'hw':'homework',\n",
        "  'i\\'ma':'i am going to',\n",
        "  'iac':'in any case',\n",
        "  'ic':'i see',\n",
        "  'icymi':'in case you missed it',\n",
        "  'idk':'I do not know',\n",
        "  'iht':'i hate this',\n",
        "  'ikr':'i know right',\n",
        "  'ilt':'i like that',\n",
        "  'ily':'i love you',\n",
        "  'ima':'i am going to',\n",
        "  'imnsho':'in my not so humble opinion',\n",
        "  'imo':'in my opinion',\n",
        "  'imy':'i miss you',\n",
        "  'iou':'i owe you',\n",
        "  'iow':'in other words',\n",
        "  'irl':'in real life',\n",
        "  'j/k':'just kidding',\n",
        "  'jdi':'just do it',\n",
        "  'jk':'just kidding',\n",
        "  'jkn':'joking',\n",
        "  'kinda':'kind of',\n",
        "  'l8':'late',\n",
        "  'l8r':'later',\n",
        "  'lbh':'let us be honest',\n",
        "  'ld':'later dude',\n",
        "  'ldi':'let us do it',\n",
        "  'ldr':'long distance relationship',\n",
        "  'lil':'little',\n",
        "  'lmao':'laugh my ass off',\n",
        "  'lmk':'let me know',\n",
        "  'lol':'laugh out loud',\n",
        "  'lolz':'laugh out loud',\n",
        "  'lotta':'lot of',\n",
        "  'lsr':'loser',\n",
        "  'ltr':'longterm relationship',\n",
        "  'lul':'laugh',\n",
        "  'luls':'laugh',\n",
        "  'lulz':'laugh',\n",
        "  'luv':'love',\n",
        "  'lux':'luxury',\n",
        "  'lvl':'level',\n",
        "  'm2':'me too',\n",
        "  'm8':'mate',\n",
        "  'me2':'me too',\n",
        "  'mvp':'most valueable player',\n",
        "  'msg':'message',\n",
        "  'mtf':'more to follow',\n",
        "  'myob':'mind your own business',\n",
        "  'nah':'no',\n",
        "  'nc':'no comment',\n",
        "  'nk':'not kidding',\n",
        "  'ngl':'not gonna lie',\n",
        "  'nlt':'no later than',\n",
        "  'nm':'not much',\n",
        "  'no1':'no one',\n",
        "  'np':'no problem',\n",
        "  'nuh':'no',\n",
        "  'nvm':'nevermind',\n",
        "  'obo':'or best offer',\n",
        "  'oic':'oh i see',\n",
        "  'omg':'oh my god',\n",
        "  'omw':'on my way',\n",
        "  'osm':'awesome',\n",
        "  'otoh':'on the other hand',\n",
        "  'pls':'please',\n",
        "  'plz':'please',\n",
        "  'ppl':'people',\n",
        "  'pro':'professional',\n",
        "  'qq':'crying',\n",
        "  'r':'are',\n",
        "  'rly':'really',\n",
        "  'rofl':'roll on the floor laughing',\n",
        "  'ru':'are you',\n",
        "  's2u':'shame to you',\n",
        "  'scrub':'loser',\n",
        "  'sec':'second',\n",
        "  'shoulda':'should have',\n",
        "  'sff':'so funny',\n",
        "  'smh':'shaking my head',\n",
        "  'sot':'short on time',\n",
        "  'sry':'sorry',\n",
        "  'srry':'sorry',\n",
        "  'sux':'sucks',\n",
        "  'tba':'to be announced',\n",
        "  'tbfu':'too bad for you',\n",
        "  'tbc':'to be continued',\n",
        "  'tbd':'to be determined',\n",
        "  'tbr':'to be rude',\n",
        "  'tc':'take care',\n",
        "  'thx':'thanks',\n",
        "  'thanx':'thanks',\n",
        "  'thx':'thanks',\n",
        "  'tfw':'that feeling when',\n",
        "  'til':'today i learned',\n",
        "  'ttyl':'talk to you later',\n",
        "  'ty':'thank you',\n",
        "  'tyvm':'thank you very much',\n",
        "  'u':'you',\n",
        "  'ugh':'disgusted',\n",
        "  'ur':'you are',\n",
        "  'uw':'you are welcome',\n",
        "  'vs':'versus',\n",
        "  'w2f':'way too funny',\n",
        "  'w8':'wait',\n",
        "  'wanna':'want to',\n",
        "  'wb':'welcome back',\n",
        "  'whoa':'surprise',\n",
        "  'whoah':'surprise',\n",
        "  'wfm':'works for me',\n",
        "  'wibni':'would it not be nice if',\n",
        "  'wot':'what',\n",
        "  'wtf':'what the fuck',\n",
        "  'wtg':'way to go',\n",
        "  'wu':'what is up',\n",
        "  'wuh':'what',\n",
        "  'yawn':'boring',\n",
        "  'y':'why',\n",
        "  'yolo':'you only live once',\n",
        "  'yw':'you are welcome',\n",
        "  'ywa':'you are welcome anyway'\n",
        "}"
      ]
    },
    {
      "cell_type": "markdown",
      "metadata": {
        "id": "BYvj0eZoQXAW"
      },
      "source": [
        "# Imports"
      ]
    },
    {
      "cell_type": "code",
      "source": [
        "import re\n",
        "import pandas as pd\n",
        "import numpy as np\n",
        "\n",
        "import nltk\n",
        "from nltk.corpus import stopwords\n",
        "from nltk.stem import WordNetLemmatizer\n",
        "from nltk import word_tokenize,pos_tag, TweetTokenizer"
      ],
      "metadata": {
        "id": "MY3egqqcGlDq"
      },
      "execution_count": null,
      "outputs": []
    },
    {
      "cell_type": "markdown",
      "source": [
        "### NLTK downloads"
      ],
      "metadata": {
        "id": "ZZeau_IKGns5"
      }
    },
    {
      "cell_type": "code",
      "execution_count": null,
      "metadata": {
        "colab": {
          "base_uri": "https://localhost:8080/"
        },
        "id": "hgNJQj9Bk4R4",
        "outputId": "8b0b44fc-f8e0-482a-d71c-c4264ea32ace"
      },
      "outputs": [
        {
          "output_type": "stream",
          "name": "stderr",
          "text": [
            "[nltk_data] Downloading package punkt to /root/nltk_data...\n",
            "[nltk_data]   Unzipping tokenizers/punkt.zip.\n",
            "[nltk_data] Downloading package averaged_perceptron_tagger to\n",
            "[nltk_data]     /root/nltk_data...\n",
            "[nltk_data]   Unzipping taggers/averaged_perceptron_tagger.zip.\n",
            "[nltk_data] Downloading package maxent_ne_chunker to\n",
            "[nltk_data]     /root/nltk_data...\n",
            "[nltk_data]   Unzipping chunkers/maxent_ne_chunker.zip.\n",
            "[nltk_data] Downloading package words to /root/nltk_data...\n",
            "[nltk_data]   Unzipping corpora/words.zip.\n",
            "[nltk_data] Downloading package stopwords to /root/nltk_data...\n",
            "[nltk_data]   Unzipping corpora/stopwords.zip.\n",
            "[nltk_data] Downloading package wordnet to /root/nltk_data...\n",
            "[nltk_data] Downloading package omw-1.4 to /root/nltk_data...\n"
          ]
        },
        {
          "output_type": "execute_result",
          "data": {
            "text/plain": [
              "True"
            ]
          },
          "metadata": {},
          "execution_count": 3
        }
      ],
      "source": [
        "nltk.download('punkt')\n",
        "nltk.download('averaged_perceptron_tagger')\n",
        "nltk.download('maxent_ne_chunker')\n",
        "nltk.download('words')\n",
        "nltk.download('stopwords')\n",
        "nltk.download('wordnet')\n",
        "nltk.download('omw-1.4')"
      ]
    },
    {
      "cell_type": "code",
      "execution_count": null,
      "metadata": {
        "colab": {
          "base_uri": "https://localhost:8080/"
        },
        "id": "cIXEifMUtEuQ",
        "outputId": "8790fdc8-48bf-4a28-f548-e4d961fa329f"
      },
      "outputs": [
        {
          "output_type": "stream",
          "name": "stdout",
          "text": [
            "Looking in indexes: https://pypi.org/simple, https://us-python.pkg.dev/colab-wheels/public/simple/\n",
            "Requirement already satisfied: requests in /usr/local/lib/python3.9/dist-packages (2.27.1)\n",
            "Requirement already satisfied: urllib3<1.27,>=1.21.1 in /usr/local/lib/python3.9/dist-packages (from requests) (1.26.15)\n",
            "Requirement already satisfied: charset-normalizer~=2.0.0 in /usr/local/lib/python3.9/dist-packages (from requests) (2.0.12)\n",
            "Requirement already satisfied: idna<4,>=2.5 in /usr/local/lib/python3.9/dist-packages (from requests) (3.4)\n",
            "Requirement already satisfied: certifi>=2017.4.17 in /usr/local/lib/python3.9/dist-packages (from requests) (2022.12.7)\n"
          ]
        }
      ],
      "source": [
        "!pip install requests\n",
        "\n",
        "import requests\n",
        "\n",
        "request = requests.get('https://raw.githubusercontent.com/tomalexsmith/emot/master/emot/emo_unicode.py')\n",
        "\n",
        "with open('emo_unicode.py', 'w') as file:\n",
        "  file.write(request.text)\n",
        "\n",
        "from emo_unicode import EMOJI_UNICODE\n",
        "\n",
        "UNICODE_EMOJI = {u: e for e, u in EMOJI_UNICODE.items()}"
      ]
    },
    {
      "cell_type": "code",
      "execution_count": null,
      "metadata": {
        "colab": {
          "base_uri": "https://localhost:8080/"
        },
        "id": "W94_88dIlJiH",
        "outputId": "94fd51d8-7661-4de1-9a5e-6b79fb6ff156"
      },
      "outputs": [
        {
          "output_type": "stream",
          "name": "stdout",
          "text": [
            "Mounted at /content/drive\n"
          ]
        }
      ],
      "source": [
        "from google.colab import drive\n",
        "\n",
        "drive.mount('/content/drive')"
      ]
    },
    {
      "cell_type": "markdown",
      "source": [
        "# Import dataset"
      ],
      "metadata": {
        "id": "BspdDRfHG3VP"
      }
    },
    {
      "cell_type": "code",
      "execution_count": null,
      "metadata": {
        "id": "-1wQCuoMlG9c"
      },
      "outputs": [],
      "source": [
        "path = '/content/drive/My Drive/twitterDataTypeFix.csv'\n",
        "# path = '/content/drive/My Drive/training.1600000.processed.noemoticon.csv'\n",
        "\n",
        "\n",
        "# with open(path, 'r', encoding = 'latin-1') as f:\n",
        "#   tweets_df = pd.read_csv(f,\n",
        "#                           index_col=None,\n",
        "#                           header=0,\n",
        "#                           names=['polarity_label','_1','_2','_3','_4','content'])\n",
        "\n",
        "with open(path, 'r', encoding = 'utf-8') as f:\n",
        "  tweets_df = pd.read_csv(f, index_col=0)"
      ]
    },
    {
      "cell_type": "code",
      "source": [
        "tweets_df.sort_values(by=\"content\", key=lambda x: x.str.len(), ascending=False, inplace=True)"
      ],
      "metadata": {
        "id": "e03uHPG57kw4"
      },
      "execution_count": null,
      "outputs": []
    },
    {
      "cell_type": "code",
      "source": [
        "tweets_df.drop(index=tweets_df.iloc[:500, :].index.tolist(), inplace=True)"
      ],
      "metadata": {
        "id": "CU1xJMpW8iGz"
      },
      "execution_count": null,
      "outputs": []
    },
    {
      "cell_type": "code",
      "source": [
        "no_samples = 500000\n",
        "\n",
        "tweets_df = tweets_df.sample(n=no_samples).reset_index(drop=True)\n",
        "\n",
        "tweets_df = tweets_df[['polarity_label','content']]\n",
        "\n",
        "tweets_df.head()"
      ],
      "metadata": {
        "colab": {
          "base_uri": "https://localhost:8080/",
          "height": 206
        },
        "id": "KZStVJx0-k1R",
        "outputId": "086d674c-da3f-4078-a81f-7001d4b0ced7"
      },
      "execution_count": null,
      "outputs": [
        {
          "output_type": "execute_result",
          "data": {
            "text/plain": [
              "   polarity_label                                            content\n",
              "0               4  @devilsnight Hey, that's my Bug! And my martin...\n",
              "1               4                 @Lumifish You're just prejudiced! \n",
              "2               0     off to bed.  got to drive to dallas tomorrow  \n",
              "3               0  Getting a feeling this job hunt will never com...\n",
              "4               0  Man this damn weather! I'm supposed to be in O..."
            ],
            "text/html": [
              "\n",
              "  <div id=\"df-80769129-ac99-4216-8849-4db1e89407cc\">\n",
              "    <div class=\"colab-df-container\">\n",
              "      <div>\n",
              "<style scoped>\n",
              "    .dataframe tbody tr th:only-of-type {\n",
              "        vertical-align: middle;\n",
              "    }\n",
              "\n",
              "    .dataframe tbody tr th {\n",
              "        vertical-align: top;\n",
              "    }\n",
              "\n",
              "    .dataframe thead th {\n",
              "        text-align: right;\n",
              "    }\n",
              "</style>\n",
              "<table border=\"1\" class=\"dataframe\">\n",
              "  <thead>\n",
              "    <tr style=\"text-align: right;\">\n",
              "      <th></th>\n",
              "      <th>polarity_label</th>\n",
              "      <th>content</th>\n",
              "    </tr>\n",
              "  </thead>\n",
              "  <tbody>\n",
              "    <tr>\n",
              "      <th>0</th>\n",
              "      <td>4</td>\n",
              "      <td>@devilsnight Hey, that's my Bug! And my martin...</td>\n",
              "    </tr>\n",
              "    <tr>\n",
              "      <th>1</th>\n",
              "      <td>4</td>\n",
              "      <td>@Lumifish You're just prejudiced!</td>\n",
              "    </tr>\n",
              "    <tr>\n",
              "      <th>2</th>\n",
              "      <td>0</td>\n",
              "      <td>off to bed.  got to drive to dallas tomorrow</td>\n",
              "    </tr>\n",
              "    <tr>\n",
              "      <th>3</th>\n",
              "      <td>0</td>\n",
              "      <td>Getting a feeling this job hunt will never com...</td>\n",
              "    </tr>\n",
              "    <tr>\n",
              "      <th>4</th>\n",
              "      <td>0</td>\n",
              "      <td>Man this damn weather! I'm supposed to be in O...</td>\n",
              "    </tr>\n",
              "  </tbody>\n",
              "</table>\n",
              "</div>\n",
              "      <button class=\"colab-df-convert\" onclick=\"convertToInteractive('df-80769129-ac99-4216-8849-4db1e89407cc')\"\n",
              "              title=\"Convert this dataframe to an interactive table.\"\n",
              "              style=\"display:none;\">\n",
              "        \n",
              "  <svg xmlns=\"http://www.w3.org/2000/svg\" height=\"24px\"viewBox=\"0 0 24 24\"\n",
              "       width=\"24px\">\n",
              "    <path d=\"M0 0h24v24H0V0z\" fill=\"none\"/>\n",
              "    <path d=\"M18.56 5.44l.94 2.06.94-2.06 2.06-.94-2.06-.94-.94-2.06-.94 2.06-2.06.94zm-11 1L8.5 8.5l.94-2.06 2.06-.94-2.06-.94L8.5 2.5l-.94 2.06-2.06.94zm10 10l.94 2.06.94-2.06 2.06-.94-2.06-.94-.94-2.06-.94 2.06-2.06.94z\"/><path d=\"M17.41 7.96l-1.37-1.37c-.4-.4-.92-.59-1.43-.59-.52 0-1.04.2-1.43.59L10.3 9.45l-7.72 7.72c-.78.78-.78 2.05 0 2.83L4 21.41c.39.39.9.59 1.41.59.51 0 1.02-.2 1.41-.59l7.78-7.78 2.81-2.81c.8-.78.8-2.07 0-2.86zM5.41 20L4 18.59l7.72-7.72 1.47 1.35L5.41 20z\"/>\n",
              "  </svg>\n",
              "      </button>\n",
              "      \n",
              "  <style>\n",
              "    .colab-df-container {\n",
              "      display:flex;\n",
              "      flex-wrap:wrap;\n",
              "      gap: 12px;\n",
              "    }\n",
              "\n",
              "    .colab-df-convert {\n",
              "      background-color: #E8F0FE;\n",
              "      border: none;\n",
              "      border-radius: 50%;\n",
              "      cursor: pointer;\n",
              "      display: none;\n",
              "      fill: #1967D2;\n",
              "      height: 32px;\n",
              "      padding: 0 0 0 0;\n",
              "      width: 32px;\n",
              "    }\n",
              "\n",
              "    .colab-df-convert:hover {\n",
              "      background-color: #E2EBFA;\n",
              "      box-shadow: 0px 1px 2px rgba(60, 64, 67, 0.3), 0px 1px 3px 1px rgba(60, 64, 67, 0.15);\n",
              "      fill: #174EA6;\n",
              "    }\n",
              "\n",
              "    [theme=dark] .colab-df-convert {\n",
              "      background-color: #3B4455;\n",
              "      fill: #D2E3FC;\n",
              "    }\n",
              "\n",
              "    [theme=dark] .colab-df-convert:hover {\n",
              "      background-color: #434B5C;\n",
              "      box-shadow: 0px 1px 3px 1px rgba(0, 0, 0, 0.15);\n",
              "      filter: drop-shadow(0px 1px 2px rgba(0, 0, 0, 0.3));\n",
              "      fill: #FFFFFF;\n",
              "    }\n",
              "  </style>\n",
              "\n",
              "      <script>\n",
              "        const buttonEl =\n",
              "          document.querySelector('#df-80769129-ac99-4216-8849-4db1e89407cc button.colab-df-convert');\n",
              "        buttonEl.style.display =\n",
              "          google.colab.kernel.accessAllowed ? 'block' : 'none';\n",
              "\n",
              "        async function convertToInteractive(key) {\n",
              "          const element = document.querySelector('#df-80769129-ac99-4216-8849-4db1e89407cc');\n",
              "          const dataTable =\n",
              "            await google.colab.kernel.invokeFunction('convertToInteractive',\n",
              "                                                     [key], {});\n",
              "          if (!dataTable) return;\n",
              "\n",
              "          const docLinkHtml = 'Like what you see? Visit the ' +\n",
              "            '<a target=\"_blank\" href=https://colab.research.google.com/notebooks/data_table.ipynb>data table notebook</a>'\n",
              "            + ' to learn more about interactive tables.';\n",
              "          element.innerHTML = '';\n",
              "          dataTable['output_type'] = 'display_data';\n",
              "          await google.colab.output.renderOutput(dataTable, element);\n",
              "          const docLink = document.createElement('div');\n",
              "          docLink.innerHTML = docLinkHtml;\n",
              "          element.appendChild(docLink);\n",
              "        }\n",
              "      </script>\n",
              "    </div>\n",
              "  </div>\n",
              "  "
            ]
          },
          "metadata": {},
          "execution_count": 60
        }
      ]
    },
    {
      "cell_type": "code",
      "source": [
        "print(len(tweets_df))"
      ],
      "metadata": {
        "colab": {
          "base_uri": "https://localhost:8080/"
        },
        "id": "NAKXMm5JMIEU",
        "outputId": "ef472a99-4707-4449-8dc7-e5e6f955f046"
      },
      "execution_count": null,
      "outputs": [
        {
          "output_type": "stream",
          "name": "stdout",
          "text": [
            "354893\n"
          ]
        }
      ]
    },
    {
      "cell_type": "code",
      "source": [
        "# Run on corpus\n",
        "\n",
        "def convert_polarity_labels(polarity):\n",
        "  if polarity == 0:\n",
        "    return \"Negative\"\n",
        "  return \"Positive\"\n",
        "\n",
        "tweets_df['polarity_label'] = tweets_df['polarity_label'].apply(convert_polarity_labels)\n",
        "\n",
        "tweets_df.head()"
      ],
      "metadata": {
        "colab": {
          "base_uri": "https://localhost:8080/",
          "height": 206
        },
        "id": "Tz-35aZCrjjC",
        "outputId": "231c90e2-b48d-4aed-e1a9-61f948355648"
      },
      "execution_count": null,
      "outputs": [
        {
          "output_type": "execute_result",
          "data": {
            "text/plain": [
              "  polarity_label                                            content\n",
              "0       Positive  @devilsnight Hey, that's my Bug! And my martin...\n",
              "1       Positive                 @Lumifish You're just prejudiced! \n",
              "2       Negative     off to bed.  got to drive to dallas tomorrow  \n",
              "3       Negative  Getting a feeling this job hunt will never com...\n",
              "4       Negative  Man this damn weather! I'm supposed to be in O..."
            ],
            "text/html": [
              "\n",
              "  <div id=\"df-c1974125-a0f6-4e37-9f90-66c4799a32ae\">\n",
              "    <div class=\"colab-df-container\">\n",
              "      <div>\n",
              "<style scoped>\n",
              "    .dataframe tbody tr th:only-of-type {\n",
              "        vertical-align: middle;\n",
              "    }\n",
              "\n",
              "    .dataframe tbody tr th {\n",
              "        vertical-align: top;\n",
              "    }\n",
              "\n",
              "    .dataframe thead th {\n",
              "        text-align: right;\n",
              "    }\n",
              "</style>\n",
              "<table border=\"1\" class=\"dataframe\">\n",
              "  <thead>\n",
              "    <tr style=\"text-align: right;\">\n",
              "      <th></th>\n",
              "      <th>polarity_label</th>\n",
              "      <th>content</th>\n",
              "    </tr>\n",
              "  </thead>\n",
              "  <tbody>\n",
              "    <tr>\n",
              "      <th>0</th>\n",
              "      <td>Positive</td>\n",
              "      <td>@devilsnight Hey, that's my Bug! And my martin...</td>\n",
              "    </tr>\n",
              "    <tr>\n",
              "      <th>1</th>\n",
              "      <td>Positive</td>\n",
              "      <td>@Lumifish You're just prejudiced!</td>\n",
              "    </tr>\n",
              "    <tr>\n",
              "      <th>2</th>\n",
              "      <td>Negative</td>\n",
              "      <td>off to bed.  got to drive to dallas tomorrow</td>\n",
              "    </tr>\n",
              "    <tr>\n",
              "      <th>3</th>\n",
              "      <td>Negative</td>\n",
              "      <td>Getting a feeling this job hunt will never com...</td>\n",
              "    </tr>\n",
              "    <tr>\n",
              "      <th>4</th>\n",
              "      <td>Negative</td>\n",
              "      <td>Man this damn weather! I'm supposed to be in O...</td>\n",
              "    </tr>\n",
              "  </tbody>\n",
              "</table>\n",
              "</div>\n",
              "      <button class=\"colab-df-convert\" onclick=\"convertToInteractive('df-c1974125-a0f6-4e37-9f90-66c4799a32ae')\"\n",
              "              title=\"Convert this dataframe to an interactive table.\"\n",
              "              style=\"display:none;\">\n",
              "        \n",
              "  <svg xmlns=\"http://www.w3.org/2000/svg\" height=\"24px\"viewBox=\"0 0 24 24\"\n",
              "       width=\"24px\">\n",
              "    <path d=\"M0 0h24v24H0V0z\" fill=\"none\"/>\n",
              "    <path d=\"M18.56 5.44l.94 2.06.94-2.06 2.06-.94-2.06-.94-.94-2.06-.94 2.06-2.06.94zm-11 1L8.5 8.5l.94-2.06 2.06-.94-2.06-.94L8.5 2.5l-.94 2.06-2.06.94zm10 10l.94 2.06.94-2.06 2.06-.94-2.06-.94-.94-2.06-.94 2.06-2.06.94z\"/><path d=\"M17.41 7.96l-1.37-1.37c-.4-.4-.92-.59-1.43-.59-.52 0-1.04.2-1.43.59L10.3 9.45l-7.72 7.72c-.78.78-.78 2.05 0 2.83L4 21.41c.39.39.9.59 1.41.59.51 0 1.02-.2 1.41-.59l7.78-7.78 2.81-2.81c.8-.78.8-2.07 0-2.86zM5.41 20L4 18.59l7.72-7.72 1.47 1.35L5.41 20z\"/>\n",
              "  </svg>\n",
              "      </button>\n",
              "      \n",
              "  <style>\n",
              "    .colab-df-container {\n",
              "      display:flex;\n",
              "      flex-wrap:wrap;\n",
              "      gap: 12px;\n",
              "    }\n",
              "\n",
              "    .colab-df-convert {\n",
              "      background-color: #E8F0FE;\n",
              "      border: none;\n",
              "      border-radius: 50%;\n",
              "      cursor: pointer;\n",
              "      display: none;\n",
              "      fill: #1967D2;\n",
              "      height: 32px;\n",
              "      padding: 0 0 0 0;\n",
              "      width: 32px;\n",
              "    }\n",
              "\n",
              "    .colab-df-convert:hover {\n",
              "      background-color: #E2EBFA;\n",
              "      box-shadow: 0px 1px 2px rgba(60, 64, 67, 0.3), 0px 1px 3px 1px rgba(60, 64, 67, 0.15);\n",
              "      fill: #174EA6;\n",
              "    }\n",
              "\n",
              "    [theme=dark] .colab-df-convert {\n",
              "      background-color: #3B4455;\n",
              "      fill: #D2E3FC;\n",
              "    }\n",
              "\n",
              "    [theme=dark] .colab-df-convert:hover {\n",
              "      background-color: #434B5C;\n",
              "      box-shadow: 0px 1px 3px 1px rgba(0, 0, 0, 0.15);\n",
              "      filter: drop-shadow(0px 1px 2px rgba(0, 0, 0, 0.3));\n",
              "      fill: #FFFFFF;\n",
              "    }\n",
              "  </style>\n",
              "\n",
              "      <script>\n",
              "        const buttonEl =\n",
              "          document.querySelector('#df-c1974125-a0f6-4e37-9f90-66c4799a32ae button.colab-df-convert');\n",
              "        buttonEl.style.display =\n",
              "          google.colab.kernel.accessAllowed ? 'block' : 'none';\n",
              "\n",
              "        async function convertToInteractive(key) {\n",
              "          const element = document.querySelector('#df-c1974125-a0f6-4e37-9f90-66c4799a32ae');\n",
              "          const dataTable =\n",
              "            await google.colab.kernel.invokeFunction('convertToInteractive',\n",
              "                                                     [key], {});\n",
              "          if (!dataTable) return;\n",
              "\n",
              "          const docLinkHtml = 'Like what you see? Visit the ' +\n",
              "            '<a target=\"_blank\" href=https://colab.research.google.com/notebooks/data_table.ipynb>data table notebook</a>'\n",
              "            + ' to learn more about interactive tables.';\n",
              "          element.innerHTML = '';\n",
              "          dataTable['output_type'] = 'display_data';\n",
              "          await google.colab.output.renderOutput(dataTable, element);\n",
              "          const docLink = document.createElement('div');\n",
              "          docLink.innerHTML = docLinkHtml;\n",
              "          element.appendChild(docLink);\n",
              "        }\n",
              "      </script>\n",
              "    </div>\n",
              "  </div>\n",
              "  "
            ]
          },
          "metadata": {},
          "execution_count": 61
        }
      ]
    },
    {
      "cell_type": "markdown",
      "source": [
        "# Preprocessing functions"
      ],
      "metadata": {
        "id": "zT9v9KIYG-dI"
      }
    },
    {
      "cell_type": "markdown",
      "metadata": {
        "id": "8Cd3xyNYbkf7"
      },
      "source": [
        "Preprocessing steps:\n",
        "\n",
        "1.  Remove capitalisation\n",
        "2.  Remove repeated characters\n",
        "3.  Remove numbers\n",
        "4.  Remove urls\n",
        "5.  Remove emojis\n",
        "6.  Expand contractions\n",
        "7.  Convert slang words\n",
        "8.  Remove punctuation\n",
        "9. Lemmatisation\n",
        "10. Remove stop words  \n",
        "11.  Remove whitespace\n",
        "\n",
        "\n",
        "\n",
        "\n",
        "\n"
      ]
    },
    {
      "cell_type": "code",
      "execution_count": null,
      "metadata": {
        "id": "u2wRgSeScPMI"
      },
      "outputs": [],
      "source": [
        "def remove_caps(dataset):\n",
        "  transformed = []\n",
        "  for tweet in dataset:\n",
        "    transformed.append(tweet.lower())\n",
        "  return transformed"
      ]
    },
    {
      "cell_type": "code",
      "source": [
        "def remove_repeatedchar(dataset):\n",
        "  transformed = []\n",
        "  for tweet in dataset:\n",
        "    tokeniser = TweetTokenizer(reduce_len=True)\n",
        "    result = tokeniser.tokenize(tweet)\n",
        "    transformed.append(' '.join(result))\n",
        "  return transformed"
      ],
      "metadata": {
        "id": "E2kg_asq91cw"
      },
      "execution_count": null,
      "outputs": []
    },
    {
      "cell_type": "code",
      "execution_count": null,
      "metadata": {
        "id": "ET59cgW3WK8T"
      },
      "outputs": [],
      "source": [
        "def remove_numbers(dataset):\n",
        "    transformed = []\n",
        "    for tweet in dataset:\n",
        "      result = re.sub(r'\\d+', '', tweet)\n",
        "      transformed.append(result)\n",
        "    return transformed"
      ]
    },
    {
      "cell_type": "code",
      "execution_count": null,
      "metadata": {
        "id": "XTyIZRk_mbkt"
      },
      "outputs": [],
      "source": [
        "def remove_url(dataset):\n",
        "  transformed = []\n",
        "  for tweet in dataset:\n",
        "    result =  re.sub(r'https?:\\/\\/\\S+|www\\.\\S+', '', tweet)\n",
        "    transformed.append(result)\n",
        "  return transformed"
      ]
    },
    {
      "cell_type": "code",
      "execution_count": null,
      "metadata": {
        "id": "Nb1oX2OddnHd"
      },
      "outputs": [],
      "source": [
        "import string\n",
        "\n",
        "def remove_punctuation(dataset):\n",
        "  transformed = []\n",
        "  for tweet in dataset:\n",
        "    # Remove word after @\n",
        "    tokeniser = TweetTokenizer(strip_handles=True)\n",
        "    result = ''.join(tokeniser.tokenize(tweet))\n",
        "\n",
        "    # Remove remaining non alphabet characters\n",
        "    result = tweet.translate(str.maketrans('', '', string.punctuation))\n",
        "    result.replace('\\n',' ')\n",
        "    result.replace('…',' ')\n",
        "\n",
        "    transformed.append(result)\n",
        "  return transformed"
      ]
    },
    {
      "cell_type": "code",
      "execution_count": null,
      "metadata": {
        "id": "YKcjXKzWvMtn"
      },
      "outputs": [],
      "source": [
        "EMOJI_PATTERN = re.compile(\n",
        "  \"([\"\n",
        "  \"\\U0001F1E0-\\U0001F1FF\"  # flags (iOS)\n",
        "  \"\\U0001F300-\\U0001F5FF\"  # symbols & pictographs\n",
        "  \"\\U0001F600-\\U0001F64F\"  # emoticons\n",
        "  \"\\U0001F680-\\U0001F6FF\"  # transport & map symbols\n",
        "  \"\\U0001F700-\\U0001F77F\"  # alchemical symbols\n",
        "  \"\\U0001F780-\\U0001F7FF\"  # Geometric Shapes Extended\n",
        "  \"\\U0001F800-\\U0001F8FF\"  # Supplemental Arrows-C\n",
        "  \"\\U0001F900-\\U0001F9FF\"  # Supplemental Symbols and Pictographs\n",
        "  \"\\U0001FA00-\\U0001FA6F\"  # Chess Symbols\n",
        "  \"\\U0001FA70-\\U0001FAFF\"  # Symbols and Pictographs Extended-A\n",
        "  \"\\U00002702-\\U000027B0\"  # Dingbats\n",
        "  \"\\U000000A9-\\U0001F636\"  # Miscellaneous Symbols\n",
        "  \"])\"\n",
        ")\n",
        "\n",
        "def convert_emojis(dataset):\n",
        "  transformed = []\n",
        "  for tweet in dataset:\n",
        "    result = re.sub(EMOJI_PATTERN, '', tweet)\n",
        "    transformed.append(' '.join(result.split()))\n",
        "  return transformed"
      ]
    },
    {
      "cell_type": "code",
      "execution_count": null,
      "metadata": {
        "colab": {
          "base_uri": "https://localhost:8080/"
        },
        "id": "G3-svOpF7Pkg",
        "outputId": "b82939b7-4274-440d-9678-86f8ade8a892"
      },
      "outputs": [
        {
          "output_type": "stream",
          "name": "stdout",
          "text": [
            "Looking in indexes: https://pypi.org/simple, https://us-python.pkg.dev/colab-wheels/public/simple/\n",
            "Collecting contractions\n",
            "  Downloading contractions-0.1.73-py2.py3-none-any.whl (8.7 kB)\n",
            "Collecting textsearch>=0.0.21\n",
            "  Downloading textsearch-0.0.24-py2.py3-none-any.whl (7.6 kB)\n",
            "Collecting pyahocorasick\n",
            "  Downloading pyahocorasick-2.0.0-cp39-cp39-manylinux_2_5_x86_64.manylinux1_x86_64.whl (103 kB)\n",
            "\u001b[2K     \u001b[90m━━━━━━━━━━━━━━━━━━━━━━━━━━━━━━━━━━━━━━━\u001b[0m \u001b[32m103.2/103.2 kB\u001b[0m \u001b[31m4.0 MB/s\u001b[0m eta \u001b[36m0:00:00\u001b[0m\n",
            "\u001b[?25hCollecting anyascii\n",
            "  Downloading anyascii-0.3.2-py3-none-any.whl (289 kB)\n",
            "\u001b[2K     \u001b[90m━━━━━━━━━━━━━━━━━━━━━━━━━━━━━━━━━━━━━━\u001b[0m \u001b[32m289.9/289.9 kB\u001b[0m \u001b[31m12.8 MB/s\u001b[0m eta \u001b[36m0:00:00\u001b[0m\n",
            "\u001b[?25hInstalling collected packages: pyahocorasick, anyascii, textsearch, contractions\n",
            "Successfully installed anyascii-0.3.2 contractions-0.1.73 pyahocorasick-2.0.0 textsearch-0.0.24\n"
          ]
        }
      ],
      "source": [
        "!pip install contractions\n",
        "\n",
        "import contractions"
      ]
    },
    {
      "cell_type": "code",
      "execution_count": null,
      "metadata": {
        "id": "vcqDFOu_7gOT"
      },
      "outputs": [],
      "source": [
        "def expand_contractions(dataset):\n",
        "  transformed = []\n",
        "  for tweet in dataset:\n",
        "    expanded_words = []\n",
        "    for word in tweet.split():\n",
        "      expanded_words.append(contractions.fix(word, slang=False))\n",
        "    transformed.append(' '.join(expanded_words))\n",
        "  return transformed"
      ]
    },
    {
      "cell_type": "code",
      "source": [
        "print(contractions.fix(\"cannot\", slang=False))"
      ],
      "metadata": {
        "colab": {
          "base_uri": "https://localhost:8080/"
        },
        "id": "9ymZi8KJCgw1",
        "outputId": "604a082f-b75a-49ce-b7f7-0732a768a771"
      },
      "execution_count": null,
      "outputs": [
        {
          "output_type": "stream",
          "name": "stdout",
          "text": [
            "cannot\n"
          ]
        }
      ]
    },
    {
      "cell_type": "code",
      "execution_count": null,
      "metadata": {
        "id": "dOdPC24xHLqJ"
      },
      "outputs": [],
      "source": [
        "def convert_slang_loop(dataset):\n",
        "  transformed = []\n",
        "  for tweet in dataset:\n",
        "    result = tweet.split()\n",
        "    for slang in SLANG_WORDS:\n",
        "      for i, word in enumerate(result):\n",
        "        if slang == word:\n",
        "          result[i] = SLANG_WORDS[word]\n",
        "    transformed.append(' '.join(result))\n",
        "  return transformed"
      ]
    },
    {
      "cell_type": "code",
      "execution_count": null,
      "metadata": {
        "id": "5L4VKDeKeptr"
      },
      "outputs": [],
      "source": [
        "def convert_slang_regex(dataset):\n",
        "  transformed = []\n",
        "  for tweet in dataset:\n",
        "    slang_re = re.compile('|'.join(r'\\b%s\\b' % re.escape(word) for word in SLANG_WORDS))\n",
        "    result = re.sub(slang_re, lambda x : SLANG_WORDS[x.group(0)], tweet)\n",
        "    transformed.append(result)\n",
        "  return transformed"
      ]
    },
    {
      "cell_type": "code",
      "execution_count": null,
      "metadata": {
        "id": "bJ7kXNydnYyk",
        "colab": {
          "base_uri": "https://localhost:8080/"
        },
        "outputId": "2f850b28-6ba2-4f42-a028-0e7fd9bffc74"
      },
      "outputs": [
        {
          "output_type": "stream",
          "name": "stdout",
          "text": [
            "Execution time: 61.2s\n"
          ]
        }
      ],
      "source": [
        "import time\n",
        "\n",
        "example_slang = ' '.join(SLANG_WORDS.keys())\n",
        "test_repeat_no = 10000\n",
        "example_slang_dataset = [example_slang for x in range(test_repeat_no)]\n",
        "\n",
        "start = time.time()\n",
        "\n",
        "convert_slang_loop(example_slang_dataset)\n",
        "\n",
        "print('Execution time: {0:.1f}s'.format(time.time()-start))"
      ]
    },
    {
      "cell_type": "code",
      "source": [
        "start = time.time()\n",
        "\n",
        "convert_slang_regex(example_slang_dataset)\n",
        "\n",
        "end = time.time()\n",
        "\n",
        "print('Execution time: {0:.1f}s'.format(end-start))"
      ],
      "metadata": {
        "colab": {
          "base_uri": "https://localhost:8080/"
        },
        "id": "10nTjdVDvYuX",
        "outputId": "f21a7e97-87b2-4b92-b023-9a5bf192f933"
      },
      "execution_count": null,
      "outputs": [
        {
          "output_type": "stream",
          "name": "stdout",
          "text": [
            "Execution time: 5.4s\n"
          ]
        }
      ]
    },
    {
      "cell_type": "code",
      "execution_count": null,
      "metadata": {
        "id": "003N2o7qaCU_"
      },
      "outputs": [],
      "source": [
        "from nltk.stem import WordNetLemmatizer\n",
        "from nltk import word_tokenize,pos_tag\n",
        "\n",
        "def lemmatisation(dataset):\n",
        "  transformed = []\n",
        "  for tweet in dataset:\n",
        "    result=[]\n",
        "    lemmatiser = WordNetLemmatizer()\n",
        "    for token,tag in pos_tag(tweet.split()):\n",
        "      if tag.startswith('NN'):\n",
        "        pos='n'\n",
        "      elif tag.startswith('VB'):\n",
        "        pos='v'\n",
        "      else:\n",
        "        pos='a'\n",
        "      result.append(lemmatiser.lemmatize(token,pos))\n",
        "    transformed.append(' '.join(result))\n",
        "\n",
        "  return transformed"
      ]
    },
    {
      "cell_type": "code",
      "execution_count": null,
      "metadata": {
        "id": "zleSDhcsvuBS"
      },
      "outputs": [],
      "source": [
        "def remove_stopwords(dataset):\n",
        "  transformed = []\n",
        "  for tweet in dataset:\n",
        "    results = []\n",
        "    for word in tweet.split():\n",
        "      if word not in stopwords.words('english'):\n",
        "        results.append(word)\n",
        "    transformed.append(\" \".join(results))\n",
        "  return transformed"
      ]
    },
    {
      "cell_type": "code",
      "execution_count": null,
      "metadata": {
        "id": "ZMQhPy9plQFg"
      },
      "outputs": [],
      "source": [
        "def remove_whitespace(dataset):\n",
        "  transformed = []\n",
        "  for tweet in dataset:\n",
        "    transformed.append(\" \".join(tweet.split()))\n",
        "  return transformed"
      ]
    },
    {
      "cell_type": "code",
      "source": [
        "def tokenisation(dataset):\n",
        "  transformed = []\n",
        "  for tweet in dataset:\n",
        "    result = word_tokenize(tweet)\n",
        "    transformed.append(result)\n",
        "  return transformed"
      ],
      "metadata": {
        "id": "-spu17ed7ZeV"
      },
      "execution_count": null,
      "outputs": []
    },
    {
      "cell_type": "markdown",
      "source": [
        "### Preprocessing pipeline"
      ],
      "metadata": {
        "id": "cFljmADeHKHN"
      }
    },
    {
      "cell_type": "code",
      "source": [
        "from sklearn.preprocessing import FunctionTransformer\n",
        "from sklearn.pipeline import Pipeline\n",
        "\n",
        "# Define preprocessing order\n",
        "\n",
        "pipeline_functions=[('caps', FunctionTransformer(remove_caps)),\n",
        "                    ('repeat', FunctionTransformer(remove_repeatedchar)),\n",
        "                    ('nos', FunctionTransformer(remove_numbers)),\n",
        "                    ('url', FunctionTransformer(remove_url)),\n",
        "                    ('emoji', FunctionTransformer(convert_emojis)),\n",
        "                    ('cont', FunctionTransformer(expand_contractions)),\n",
        "                    ('slang', FunctionTransformer(convert_slang_regex)),\n",
        "                    ('punct', FunctionTransformer(remove_punctuation)),\n",
        "                    ('lemma', FunctionTransformer(lemmatisation)),\n",
        "                    ('stop', FunctionTransformer(remove_stopwords)),\n",
        "                    ('white', FunctionTransformer(remove_whitespace)),\n",
        "                    ]\n",
        "preprocessing_pipeline=Pipeline(pipeline_functions)"
      ],
      "metadata": {
        "id": "bslcb4vI1PxB"
      },
      "execution_count": null,
      "outputs": []
    },
    {
      "cell_type": "code",
      "source": [
        "tweets_df['content']=preprocessing_pipeline.fit_transform(tweets_df['content'])"
      ],
      "metadata": {
        "id": "sj6uwY7lnjdd"
      },
      "execution_count": null,
      "outputs": []
    },
    {
      "cell_type": "code",
      "source": [
        "tweets_df.head(len(tweets_df))"
      ],
      "metadata": {
        "colab": {
          "base_uri": "https://localhost:8080/",
          "height": 672
        },
        "id": "9m7t3x9s8pVe",
        "outputId": "966fd596-3d7c-4d4e-aa58-274722515e39"
      },
      "execution_count": null,
      "outputs": [
        {
          "output_type": "execute_result",
          "data": {
            "text/plain": [
              "               mdy                       date  \\\n",
              "0       2023-03-06  2023-03-06 23:58:49+00:00   \n",
              "1       2023-03-06  2023-03-06 23:58:07+00:00   \n",
              "2       2023-03-06  2023-03-06 23:57:47+00:00   \n",
              "3       2023-03-06  2023-03-06 23:54:57+00:00   \n",
              "4       2023-03-06  2023-03-06 23:54:52+00:00   \n",
              "...            ...                        ...   \n",
              "354888  2022-03-07  2022-03-07 07:25:09+00:00   \n",
              "354889  2022-03-07  2022-03-07 07:24:10+00:00   \n",
              "354890  2022-03-07  2022-03-07 07:23:30+00:00   \n",
              "354891  2022-03-07  2022-03-07 07:17:32+00:00   \n",
              "354892  2022-03-07  2022-03-07 07:17:05+00:00   \n",
              "\n",
              "                                                  content  likes  retweets  \n",
              "0                                    girl explain bitcoin    501       140  \n",
              "1       roughly hour leave pulsechain testnet fully sy...     32         1  \n",
              "2       come join conversation bitcoin fix hood americ...     24         1  \n",
              "3       get haircut pay bitcoin feel good always offer...     14         0  \n",
              "4       bitcoin usd weekly wrong bearish rising wedge ...    721        65  \n",
              "...                                                   ...    ...       ...  \n",
              "354888  gold act exactly store value preserve wealth c...    264        28  \n",
              "354889  see selloff tym bitcoin hold ema wts go happen...     27         1  \n",
              "354890                      many follower bitcoin bitcoin     30        16  \n",
              "354891  reserve risk useful opinion underused indicato...    112        22  \n",
              "354892  clayfriendsnft revealeddd love art super bulli...     14         2  \n",
              "\n",
              "[354893 rows x 5 columns]"
            ],
            "text/html": [
              "\n",
              "  <div id=\"df-a53fb0fd-5b40-4aad-b6a6-d59c175aebfb\">\n",
              "    <div class=\"colab-df-container\">\n",
              "      <div>\n",
              "<style scoped>\n",
              "    .dataframe tbody tr th:only-of-type {\n",
              "        vertical-align: middle;\n",
              "    }\n",
              "\n",
              "    .dataframe tbody tr th {\n",
              "        vertical-align: top;\n",
              "    }\n",
              "\n",
              "    .dataframe thead th {\n",
              "        text-align: right;\n",
              "    }\n",
              "</style>\n",
              "<table border=\"1\" class=\"dataframe\">\n",
              "  <thead>\n",
              "    <tr style=\"text-align: right;\">\n",
              "      <th></th>\n",
              "      <th>mdy</th>\n",
              "      <th>date</th>\n",
              "      <th>content</th>\n",
              "      <th>likes</th>\n",
              "      <th>retweets</th>\n",
              "    </tr>\n",
              "  </thead>\n",
              "  <tbody>\n",
              "    <tr>\n",
              "      <th>0</th>\n",
              "      <td>2023-03-06</td>\n",
              "      <td>2023-03-06 23:58:49+00:00</td>\n",
              "      <td>girl explain bitcoin</td>\n",
              "      <td>501</td>\n",
              "      <td>140</td>\n",
              "    </tr>\n",
              "    <tr>\n",
              "      <th>1</th>\n",
              "      <td>2023-03-06</td>\n",
              "      <td>2023-03-06 23:58:07+00:00</td>\n",
              "      <td>roughly hour leave pulsechain testnet fully sy...</td>\n",
              "      <td>32</td>\n",
              "      <td>1</td>\n",
              "    </tr>\n",
              "    <tr>\n",
              "      <th>2</th>\n",
              "      <td>2023-03-06</td>\n",
              "      <td>2023-03-06 23:57:47+00:00</td>\n",
              "      <td>come join conversation bitcoin fix hood americ...</td>\n",
              "      <td>24</td>\n",
              "      <td>1</td>\n",
              "    </tr>\n",
              "    <tr>\n",
              "      <th>3</th>\n",
              "      <td>2023-03-06</td>\n",
              "      <td>2023-03-06 23:54:57+00:00</td>\n",
              "      <td>get haircut pay bitcoin feel good always offer...</td>\n",
              "      <td>14</td>\n",
              "      <td>0</td>\n",
              "    </tr>\n",
              "    <tr>\n",
              "      <th>4</th>\n",
              "      <td>2023-03-06</td>\n",
              "      <td>2023-03-06 23:54:52+00:00</td>\n",
              "      <td>bitcoin usd weekly wrong bearish rising wedge ...</td>\n",
              "      <td>721</td>\n",
              "      <td>65</td>\n",
              "    </tr>\n",
              "    <tr>\n",
              "      <th>...</th>\n",
              "      <td>...</td>\n",
              "      <td>...</td>\n",
              "      <td>...</td>\n",
              "      <td>...</td>\n",
              "      <td>...</td>\n",
              "    </tr>\n",
              "    <tr>\n",
              "      <th>354888</th>\n",
              "      <td>2022-03-07</td>\n",
              "      <td>2022-03-07 07:25:09+00:00</td>\n",
              "      <td>gold act exactly store value preserve wealth c...</td>\n",
              "      <td>264</td>\n",
              "      <td>28</td>\n",
              "    </tr>\n",
              "    <tr>\n",
              "      <th>354889</th>\n",
              "      <td>2022-03-07</td>\n",
              "      <td>2022-03-07 07:24:10+00:00</td>\n",
              "      <td>see selloff tym bitcoin hold ema wts go happen...</td>\n",
              "      <td>27</td>\n",
              "      <td>1</td>\n",
              "    </tr>\n",
              "    <tr>\n",
              "      <th>354890</th>\n",
              "      <td>2022-03-07</td>\n",
              "      <td>2022-03-07 07:23:30+00:00</td>\n",
              "      <td>many follower bitcoin bitcoin</td>\n",
              "      <td>30</td>\n",
              "      <td>16</td>\n",
              "    </tr>\n",
              "    <tr>\n",
              "      <th>354891</th>\n",
              "      <td>2022-03-07</td>\n",
              "      <td>2022-03-07 07:17:32+00:00</td>\n",
              "      <td>reserve risk useful opinion underused indicato...</td>\n",
              "      <td>112</td>\n",
              "      <td>22</td>\n",
              "    </tr>\n",
              "    <tr>\n",
              "      <th>354892</th>\n",
              "      <td>2022-03-07</td>\n",
              "      <td>2022-03-07 07:17:05+00:00</td>\n",
              "      <td>clayfriendsnft revealeddd love art super bulli...</td>\n",
              "      <td>14</td>\n",
              "      <td>2</td>\n",
              "    </tr>\n",
              "  </tbody>\n",
              "</table>\n",
              "<p>354893 rows × 5 columns</p>\n",
              "</div>\n",
              "      <button class=\"colab-df-convert\" onclick=\"convertToInteractive('df-a53fb0fd-5b40-4aad-b6a6-d59c175aebfb')\"\n",
              "              title=\"Convert this dataframe to an interactive table.\"\n",
              "              style=\"display:none;\">\n",
              "        \n",
              "  <svg xmlns=\"http://www.w3.org/2000/svg\" height=\"24px\"viewBox=\"0 0 24 24\"\n",
              "       width=\"24px\">\n",
              "    <path d=\"M0 0h24v24H0V0z\" fill=\"none\"/>\n",
              "    <path d=\"M18.56 5.44l.94 2.06.94-2.06 2.06-.94-2.06-.94-.94-2.06-.94 2.06-2.06.94zm-11 1L8.5 8.5l.94-2.06 2.06-.94-2.06-.94L8.5 2.5l-.94 2.06-2.06.94zm10 10l.94 2.06.94-2.06 2.06-.94-2.06-.94-.94-2.06-.94 2.06-2.06.94z\"/><path d=\"M17.41 7.96l-1.37-1.37c-.4-.4-.92-.59-1.43-.59-.52 0-1.04.2-1.43.59L10.3 9.45l-7.72 7.72c-.78.78-.78 2.05 0 2.83L4 21.41c.39.39.9.59 1.41.59.51 0 1.02-.2 1.41-.59l7.78-7.78 2.81-2.81c.8-.78.8-2.07 0-2.86zM5.41 20L4 18.59l7.72-7.72 1.47 1.35L5.41 20z\"/>\n",
              "  </svg>\n",
              "      </button>\n",
              "      \n",
              "  <style>\n",
              "    .colab-df-container {\n",
              "      display:flex;\n",
              "      flex-wrap:wrap;\n",
              "      gap: 12px;\n",
              "    }\n",
              "\n",
              "    .colab-df-convert {\n",
              "      background-color: #E8F0FE;\n",
              "      border: none;\n",
              "      border-radius: 50%;\n",
              "      cursor: pointer;\n",
              "      display: none;\n",
              "      fill: #1967D2;\n",
              "      height: 32px;\n",
              "      padding: 0 0 0 0;\n",
              "      width: 32px;\n",
              "    }\n",
              "\n",
              "    .colab-df-convert:hover {\n",
              "      background-color: #E2EBFA;\n",
              "      box-shadow: 0px 1px 2px rgba(60, 64, 67, 0.3), 0px 1px 3px 1px rgba(60, 64, 67, 0.15);\n",
              "      fill: #174EA6;\n",
              "    }\n",
              "\n",
              "    [theme=dark] .colab-df-convert {\n",
              "      background-color: #3B4455;\n",
              "      fill: #D2E3FC;\n",
              "    }\n",
              "\n",
              "    [theme=dark] .colab-df-convert:hover {\n",
              "      background-color: #434B5C;\n",
              "      box-shadow: 0px 1px 3px 1px rgba(0, 0, 0, 0.15);\n",
              "      filter: drop-shadow(0px 1px 2px rgba(0, 0, 0, 0.3));\n",
              "      fill: #FFFFFF;\n",
              "    }\n",
              "  </style>\n",
              "\n",
              "      <script>\n",
              "        const buttonEl =\n",
              "          document.querySelector('#df-a53fb0fd-5b40-4aad-b6a6-d59c175aebfb button.colab-df-convert');\n",
              "        buttonEl.style.display =\n",
              "          google.colab.kernel.accessAllowed ? 'block' : 'none';\n",
              "\n",
              "        async function convertToInteractive(key) {\n",
              "          const element = document.querySelector('#df-a53fb0fd-5b40-4aad-b6a6-d59c175aebfb');\n",
              "          const dataTable =\n",
              "            await google.colab.kernel.invokeFunction('convertToInteractive',\n",
              "                                                     [key], {});\n",
              "          if (!dataTable) return;\n",
              "\n",
              "          const docLinkHtml = 'Like what you see? Visit the ' +\n",
              "            '<a target=\"_blank\" href=https://colab.research.google.com/notebooks/data_table.ipynb>data table notebook</a>'\n",
              "            + ' to learn more about interactive tables.';\n",
              "          element.innerHTML = '';\n",
              "          dataTable['output_type'] = 'display_data';\n",
              "          await google.colab.output.renderOutput(dataTable, element);\n",
              "          const docLink = document.createElement('div');\n",
              "          docLink.innerHTML = docLinkHtml;\n",
              "          element.appendChild(docLink);\n",
              "        }\n",
              "      </script>\n",
              "    </div>\n",
              "  </div>\n",
              "  "
            ]
          },
          "metadata": {},
          "execution_count": 77
        },
        {
          "output_type": "stream",
          "name": "stdout",
          "text": [
            "Warning: total number of rows (354893) exceeds max_rows (20000). Limiting to first (20000) rows.\n"
          ]
        }
      ]
    },
    {
      "cell_type": "code",
      "source": [
        "def convert_slang_regex_again(tweet):\n",
        "  slang_re = re.compile('|'.join(r'\\b%s\\b' % re.escape(word) for word in SLANG_WORDS))\n",
        "  result = re.sub(slang_re, lambda x : SLANG_WORDS[x.group(0)], tweet)\n",
        "  return result\n",
        "\n",
        "tweets_df['content'] = tweets_df['content'].apply(convert_slang_regex_again)\n"
      ],
      "metadata": {
        "id": "SM1dPDshM9YC"
      },
      "execution_count": null,
      "outputs": []
    },
    {
      "cell_type": "markdown",
      "source": [
        "# Save dataset"
      ],
      "metadata": {
        "id": "M0AdjuxG1Gxq"
      }
    },
    {
      "cell_type": "code",
      "execution_count": null,
      "metadata": {
        "id": "WB1SsobHbX-s"
      },
      "outputs": [],
      "source": [
        "path = '/content/drive/My Drive/preprocessedScraped.csv'\n",
        "\n",
        "# with open(path, 'w', encoding = 'latin-1') as f:\n",
        "#   tweets_df.to_csv(f)\n",
        "\n",
        "\n",
        "with open(path, 'w', encoding = 'utf-8') as f:\n",
        "  tweets_df.to_csv(f)"
      ]
    }
  ],
  "metadata": {
    "colab": {
      "provenance": [],
      "collapsed_sections": [
        "VKXvaE9OQQAs"
      ],
      "authorship_tag": "ABX9TyPyPlH8g0tXya08r6mLd2ox",
      "include_colab_link": true
    },
    "kernelspec": {
      "display_name": "Python 3",
      "name": "python3"
    },
    "language_info": {
      "name": "python"
    }
  },
  "nbformat": 4,
  "nbformat_minor": 0
}
